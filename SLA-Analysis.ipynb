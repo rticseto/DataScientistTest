{
 "cells": [
  {
   "cell_type": "markdown",
   "metadata": {},
   "source": [
    "# SLA-Analysis\n",
    "### Royer Ticse Torres, July 2019\n",
    "\n",
    "\n",
    "This notebook is a SLA-analysis in python step-by-step. Starting from raw data to making prediction model on the \"ticket_cientista\" dataset.\n",
    "\n",
    "![title](sla1.png \"Header\")\n",
    "\n"
   ]
  },
  {
   "cell_type": "markdown",
   "metadata": {},
   "source": [
    "# Dive into data\n",
    "First things first!. Understand the content of the data"
   ]
  },
  {
   "cell_type": "code",
   "execution_count": 1,
   "metadata": {},
   "outputs": [],
   "source": [
    "import numpy as np\n",
    "import pandas as pd\n",
    "from pandas import Series, DataFrame\n",
    "from datetime import datetime\n",
    "from dateutil.parser import parse\n",
    "import seaborn as sb\n",
    "import scipy\n",
    "from scipy.stats import spearmanr\n",
    "from sklearn.metrics import mean_squared_log_error\n",
    "from sklearn.ensemble import RandomForestRegressor\n",
    "from sklearn.ensemble import GradientBoostingRegressor\n",
    "from sklearn.datasets import make_regression\n",
    "from sklearn.externals import joblib\n",
    "\n",
    "import matplotlib.pyplot as plt\n",
    "from pylab import rcParams\n",
    "\n",
    "%matplotlib inline\n",
    "rcParams['figure.figsize'] = 5, 4\n",
    "sb.set_style('whitegrid')"
   ]
  },
  {
   "cell_type": "code",
   "execution_count": 2,
   "metadata": {},
   "outputs": [
    {
     "name": "stderr",
     "output_type": "stream",
     "text": [
      "/anaconda3/lib/python3.7/site-packages/IPython/core/interactiveshell.py:3049: DtypeWarning: Columns (25,35,38) have mixed types. Specify dtype option on import or set low_memory=False.\n",
      "  interactivity=interactivity, compiler=compiler, result=result)\n"
     ]
    },
    {
     "data": {
      "text/html": [
       "<div>\n",
       "<style scoped>\n",
       "    .dataframe tbody tr th:only-of-type {\n",
       "        vertical-align: middle;\n",
       "    }\n",
       "\n",
       "    .dataframe tbody tr th {\n",
       "        vertical-align: top;\n",
       "    }\n",
       "\n",
       "    .dataframe thead th {\n",
       "        text-align: right;\n",
       "    }\n",
       "</style>\n",
       "<table border=\"1\" class=\"dataframe\">\n",
       "  <thead>\n",
       "    <tr style=\"text-align: right;\">\n",
       "      <th></th>\n",
       "      <th>attendanceType</th>\n",
       "      <th>attendanceTypeId</th>\n",
       "      <th>averageRepairTime</th>\n",
       "      <th>averageRepairTimeType</th>\n",
       "      <th>averageServiceTime</th>\n",
       "      <th>averageSolutionTime</th>\n",
       "      <th>averageWaitingTimeType</th>\n",
       "      <th>callBranch</th>\n",
       "      <th>callBranchName</th>\n",
       "      <th>callCloseDate</th>\n",
       "      <th>...</th>\n",
       "      <th>repairTimeEngineer</th>\n",
       "      <th>schedulingDate</th>\n",
       "      <th>schedulingDateTime</th>\n",
       "      <th>schedulingTime</th>\n",
       "      <th>segmentId</th>\n",
       "      <th>siteCity</th>\n",
       "      <th>siteName</th>\n",
       "      <th>siteState</th>\n",
       "      <th>slaStatus</th>\n",
       "      <th>type</th>\n",
       "    </tr>\n",
       "    <tr>\n",
       "      <th>datetime</th>\n",
       "      <th></th>\n",
       "      <th></th>\n",
       "      <th></th>\n",
       "      <th></th>\n",
       "      <th></th>\n",
       "      <th></th>\n",
       "      <th></th>\n",
       "      <th></th>\n",
       "      <th></th>\n",
       "      <th></th>\n",
       "      <th></th>\n",
       "      <th></th>\n",
       "      <th></th>\n",
       "      <th></th>\n",
       "      <th></th>\n",
       "      <th></th>\n",
       "      <th></th>\n",
       "      <th></th>\n",
       "      <th></th>\n",
       "      <th></th>\n",
       "      <th></th>\n",
       "    </tr>\n",
       "  </thead>\n",
       "  <tbody>\n",
       "    <tr>\n",
       "      <th>2018-02-07 18:49:02</th>\n",
       "      <td>1</td>\n",
       "      <td>5</td>\n",
       "      <td>0</td>\n",
       "      <td>35.0</td>\n",
       "      <td>222</td>\n",
       "      <td>222</td>\n",
       "      <td>52.0</td>\n",
       "      <td>86</td>\n",
       "      <td>Natal</td>\n",
       "      <td>NaN</td>\n",
       "      <td>...</td>\n",
       "      <td>0.0</td>\n",
       "      <td>20180207</td>\n",
       "      <td>ISODate(\"2018-02-07T15:00:00.000-02:00\")</td>\n",
       "      <td>15:00</td>\n",
       "      <td>35</td>\n",
       "      <td>CAICÓ</td>\n",
       "      <td>LEXBRA000010380</td>\n",
       "      <td>RN</td>\n",
       "      <td>NaN</td>\n",
       "      <td>U</td>\n",
       "    </tr>\n",
       "    <tr>\n",
       "      <th>2019-02-22 16:03:17</th>\n",
       "      <td>0</td>\n",
       "      <td>2</td>\n",
       "      <td>164</td>\n",
       "      <td>27.0</td>\n",
       "      <td>131</td>\n",
       "      <td>295</td>\n",
       "      <td>66.0</td>\n",
       "      <td>52</td>\n",
       "      <td>Campinas</td>\n",
       "      <td>20190222.0</td>\n",
       "      <td>...</td>\n",
       "      <td>164.0</td>\n",
       "      <td>NaN</td>\n",
       "      <td>NaN</td>\n",
       "      <td>NaN</td>\n",
       "      <td>35</td>\n",
       "      <td>PIRACICABA</td>\n",
       "      <td>LEXMARK00013169</td>\n",
       "      <td>SP</td>\n",
       "      <td>N</td>\n",
       "      <td>U</td>\n",
       "    </tr>\n",
       "    <tr>\n",
       "      <th>2019-02-22 15:11:45</th>\n",
       "      <td>0</td>\n",
       "      <td>2</td>\n",
       "      <td>19</td>\n",
       "      <td>27.0</td>\n",
       "      <td>264</td>\n",
       "      <td>283</td>\n",
       "      <td>66.0</td>\n",
       "      <td>52</td>\n",
       "      <td>Campinas</td>\n",
       "      <td>20190222.0</td>\n",
       "      <td>...</td>\n",
       "      <td>19.0</td>\n",
       "      <td>NaN</td>\n",
       "      <td>NaN</td>\n",
       "      <td>NaN</td>\n",
       "      <td>35</td>\n",
       "      <td>JUNDIAI</td>\n",
       "      <td>LEXMARK00013402</td>\n",
       "      <td>SP</td>\n",
       "      <td>N</td>\n",
       "      <td>U</td>\n",
       "    </tr>\n",
       "    <tr>\n",
       "      <th>2019-02-26 15:53:54</th>\n",
       "      <td>0</td>\n",
       "      <td>2</td>\n",
       "      <td>360</td>\n",
       "      <td>56.0</td>\n",
       "      <td>257</td>\n",
       "      <td>617</td>\n",
       "      <td>67.0</td>\n",
       "      <td>70</td>\n",
       "      <td>Paissandu</td>\n",
       "      <td>NaN</td>\n",
       "      <td>...</td>\n",
       "      <td>0.0</td>\n",
       "      <td>NaN</td>\n",
       "      <td>NaN</td>\n",
       "      <td>NaN</td>\n",
       "      <td>35</td>\n",
       "      <td>SAO PAULO</td>\n",
       "      <td>LEXMARK00004162</td>\n",
       "      <td>SP</td>\n",
       "      <td>S</td>\n",
       "      <td>U</td>\n",
       "    </tr>\n",
       "    <tr>\n",
       "      <th>2019-02-26 15:31:44</th>\n",
       "      <td>0</td>\n",
       "      <td>2</td>\n",
       "      <td>63</td>\n",
       "      <td>21.0</td>\n",
       "      <td>146</td>\n",
       "      <td>209</td>\n",
       "      <td>55.0</td>\n",
       "      <td>AD</td>\n",
       "      <td>Campo Grande</td>\n",
       "      <td>NaN</td>\n",
       "      <td>...</td>\n",
       "      <td>0.0</td>\n",
       "      <td>NaN</td>\n",
       "      <td>NaN</td>\n",
       "      <td>NaN</td>\n",
       "      <td>35</td>\n",
       "      <td>CAMPO GRANDE</td>\n",
       "      <td>LEXMARK00012469</td>\n",
       "      <td>MS</td>\n",
       "      <td>N</td>\n",
       "      <td>U</td>\n",
       "    </tr>\n",
       "  </tbody>\n",
       "</table>\n",
       "<p>5 rows × 44 columns</p>\n",
       "</div>"
      ],
      "text/plain": [
       "                     attendanceType  attendanceTypeId  averageRepairTime  \\\n",
       "datetime                                                                   \n",
       "2018-02-07 18:49:02               1                 5                  0   \n",
       "2019-02-22 16:03:17               0                 2                164   \n",
       "2019-02-22 15:11:45               0                 2                 19   \n",
       "2019-02-26 15:53:54               0                 2                360   \n",
       "2019-02-26 15:31:44               0                 2                 63   \n",
       "\n",
       "                     averageRepairTimeType  averageServiceTime  \\\n",
       "datetime                                                         \n",
       "2018-02-07 18:49:02                   35.0                 222   \n",
       "2019-02-22 16:03:17                   27.0                 131   \n",
       "2019-02-22 15:11:45                   27.0                 264   \n",
       "2019-02-26 15:53:54                   56.0                 257   \n",
       "2019-02-26 15:31:44                   21.0                 146   \n",
       "\n",
       "                     averageSolutionTime  averageWaitingTimeType callBranch  \\\n",
       "datetime                                                                      \n",
       "2018-02-07 18:49:02                  222                    52.0         86   \n",
       "2019-02-22 16:03:17                  295                    66.0         52   \n",
       "2019-02-22 15:11:45                  283                    66.0         52   \n",
       "2019-02-26 15:53:54                  617                    67.0         70   \n",
       "2019-02-26 15:31:44                  209                    55.0         AD   \n",
       "\n",
       "                    callBranchName  callCloseDate  ... repairTimeEngineer  \\\n",
       "datetime                                           ...                      \n",
       "2018-02-07 18:49:02          Natal            NaN  ...                0.0   \n",
       "2019-02-22 16:03:17       Campinas     20190222.0  ...              164.0   \n",
       "2019-02-22 15:11:45       Campinas     20190222.0  ...               19.0   \n",
       "2019-02-26 15:53:54      Paissandu            NaN  ...                0.0   \n",
       "2019-02-26 15:31:44   Campo Grande            NaN  ...                0.0   \n",
       "\n",
       "                     schedulingDate                        schedulingDateTime  \\\n",
       "datetime                                                                        \n",
       "2018-02-07 18:49:02        20180207  ISODate(\"2018-02-07T15:00:00.000-02:00\")   \n",
       "2019-02-22 16:03:17             NaN                                       NaN   \n",
       "2019-02-22 15:11:45             NaN                                       NaN   \n",
       "2019-02-26 15:53:54             NaN                                       NaN   \n",
       "2019-02-26 15:31:44             NaN                                       NaN   \n",
       "\n",
       "                    schedulingTime  segmentId      siteCity         siteName  \\\n",
       "datetime                                                                       \n",
       "2018-02-07 18:49:02          15:00         35         CAICÓ  LEXBRA000010380   \n",
       "2019-02-22 16:03:17            NaN         35    PIRACICABA  LEXMARK00013169   \n",
       "2019-02-22 15:11:45            NaN         35       JUNDIAI  LEXMARK00013402   \n",
       "2019-02-26 15:53:54            NaN         35     SAO PAULO  LEXMARK00004162   \n",
       "2019-02-26 15:31:44            NaN         35  CAMPO GRANDE  LEXMARK00012469   \n",
       "\n",
       "                    siteState slaStatus type  \n",
       "datetime                                      \n",
       "2018-02-07 18:49:02        RN       NaN    U  \n",
       "2019-02-22 16:03:17        SP         N    U  \n",
       "2019-02-22 15:11:45        SP         N    U  \n",
       "2019-02-26 15:53:54        SP         S    U  \n",
       "2019-02-26 15:31:44        MS         N    U  \n",
       "\n",
       "[5 rows x 44 columns]"
      ]
     },
     "execution_count": 2,
     "metadata": {},
     "output_type": "execute_result"
    }
   ],
   "source": [
    "address = 'dataset/ticket_cientista.csv'\n",
    "df = pd.read_csv(address , sep=';')\n",
    "df['datetime'] = pd.to_datetime(df['currentDateTime'], format='ISODate(\"%Y-%m-%dT%H:%M:%S.000%z\")')\n",
    "df['datetime'] = pd.to_datetime(df['datetime'], utc='True')\n",
    "\n",
    "df = df.set_index('datetime')\n",
    "\n",
    "df.index = df.index.tz_convert(None)\n",
    "df.head()"
   ]
  },
  {
   "cell_type": "code",
   "execution_count": 3,
   "metadata": {},
   "outputs": [],
   "source": [
    "#df.info()"
   ]
  },
  {
   "cell_type": "code",
   "execution_count": 4,
   "metadata": {},
   "outputs": [
    {
     "name": "stdout",
     "output_type": "stream",
     "text": [
      "<class 'pandas.core.frame.DataFrame'>\n",
      "DatetimeIndex: 41668 entries, 2019-01-01 13:43:43 to 2019-02-26 17:48:26\n",
      "Data columns (total 2 columns):\n",
      "openDateTime        41668 non-null object\n",
      "deadlineDateTime    41668 non-null object\n",
      "dtypes: object(2)\n",
      "memory usage: 976.6+ KB\n"
     ]
    }
   ],
   "source": [
    "df_times = df[['openDateTime', 'deadlineDateTime']]\n",
    "df_times = df_times.dropna()\n",
    "df_times = df_times.loc[(df_times.index >'2019-01-01')]\n",
    "df_times = df_times.sort_index()\n",
    "df_times.head()\n",
    "df_times.info()\n"
   ]
  },
  {
   "cell_type": "code",
   "execution_count": 5,
   "metadata": {},
   "outputs": [
    {
     "data": {
      "text/plain": [
       "Timedelta('4 days 02:49:14.568750')"
      ]
     },
     "execution_count": 5,
     "metadata": {},
     "output_type": "execute_result"
    }
   ],
   "source": [
    "df_deadline = df_times.sample(n=3200,random_state=97, axis=0)\n",
    "\n",
    "df_deadline[\"openDateTime_utc\"] = pd.to_datetime(df_deadline['openDateTime'], format='ISODate(\"%Y-%m-%dT%H:%M:%S.000%z\")',errors='ignore')\n",
    "df_deadline[\"openDateTime_utc\"] = pd.to_datetime(df_deadline['openDateTime_utc'], utc='True')\n",
    "df_deadline[\"deadlineDateTime_utc\"] = pd.to_datetime(df_deadline['deadlineDateTime'], format='ISODate(\"%Y-%m-%dT%H:%M:%S.000%z\")')\n",
    "df_deadline[\"deadlineDateTime_utc\"] = pd.to_datetime(df_deadline['deadlineDateTime_utc'], utc='True')\n",
    "\n",
    "df_deadline[\"deadline\"] = df_deadline[\"deadlineDateTime_utc\"] - df_deadline[\"openDateTime_utc\"] \n",
    "df_deadline[\"deadline\"].mean()"
   ]
  },
  {
   "cell_type": "code",
   "execution_count": 6,
   "metadata": {},
   "outputs": [
    {
     "data": {
      "text/plain": [
       "Timedelta('2 days 13:58:30')"
      ]
     },
     "execution_count": 6,
     "metadata": {},
     "output_type": "execute_result"
    }
   ],
   "source": [
    "df_deadline[\"deadline\"].median()"
   ]
  },
  {
   "cell_type": "code",
   "execution_count": 7,
   "metadata": {
    "scrolled": true
   },
   "outputs": [
    {
     "data": {
      "text/plain": [
       "<matplotlib.axes._subplots.AxesSubplot at 0x110797438>"
      ]
     },
     "execution_count": 7,
     "metadata": {},
     "output_type": "execute_result"
    },
    {
     "data": {
      "image/png": "[encoded data removed]",
      "text/plain": [
       "<Figure size 432x288 with 1 Axes>"
      ]
     },
     "metadata": {
      "needs_background": "light"
     },
     "output_type": "display_data"
    }
   ],
   "source": [
    "df_deadline[\"deadline\"].plot()"
   ]
  },
  {
   "cell_type": "markdown",
   "metadata": {},
   "source": [
    "# What data tell us?\n",
    "* Mean deadline for a call is ~4 days however we can see outliers.\n",
    "* ?\n",
    "\n",
    "\n",
    "Since it is essential to prevent SLA violations as much as possible to enhance customer satisfaction and avoid penalty payments. The proposed model will run in a 2-day period so that the manager can make decisions based on the predictions for the next two days. The prediction model is based on machine learning regression techniques and trained using historical process instances."
   ]
  },
  {
   "cell_type": "code",
   "execution_count": 8,
   "metadata": {},
   "outputs": [],
   "source": [
    "def dateList(start_date, end_date):\n",
    "    dateList =[]\n",
    "    daterange = pd.date_range(start_date, end_date)\n",
    "    for single_date in daterange:\n",
    "        dateList.append(single_date.strftime(\"%Y-%m-%d\"))\n",
    "    return dateList"
   ]
  },
  {
   "cell_type": "code",
   "execution_count": 9,
   "metadata": {},
   "outputs": [],
   "source": [
    "def data_calls2_onTime(df, str_days):\n",
    "\n",
    "    pdList = []\n",
    "    for i in range(0,len(str_days),2):\n",
    "        df_day = pd.DataFrame()\n",
    "        df_day = df.loc[str_days[i]:str_days[i+1]]\n",
    "        df_day = df_day[(df_day[\"onTimeSolution\"] =='S')]\n",
    "        df_day = df_day['customerCode'].value_counts()\n",
    "        df_day.name = \"Day_\"+str(i+1)\n",
    "        pdList.append(df_day) \n",
    "    df_combined = pd.concat(pdList, axis =1)\n",
    "    df_combined = df_combined.fillna(0)\n",
    "    return df_combined"
   ]
  },
  {
   "cell_type": "code",
   "execution_count": 10,
   "metadata": {},
   "outputs": [],
   "source": [
    "def data_calls2(df, str_days):\n",
    "\n",
    "    pdList = []\n",
    "    for i in range(0,len(str_days),2):\n",
    "        df_day = pd.DataFrame()\n",
    "        df_day = df.loc[str_days[i]:str_days[i+1]]\n",
    "        df_day = df_day['customerCode'].value_counts()\n",
    "        df_day.name = \"Day_\"+str(i+1)\n",
    "        pdList.append(df_day) \n",
    "    df_combined = pd.concat(pdList, axis =1)\n",
    "    df_combined = df_combined.fillna(0)\n",
    "    return df_combined"
   ]
  },
  {
   "cell_type": "code",
   "execution_count": 11,
   "metadata": {},
   "outputs": [],
   "source": [
    "def melting_data(df):\n",
    "    df = df.reset_index()\n",
    "    df = df.melt(id_vars='index', var_name='Days', value_name='Calls')\n",
    "    df['Days'] = df['Days'].str.extract('(\\d+)', expand=False).astype(int)\n",
    "    df = df.sort_values(['Days', 'index'])\n",
    "    return df"
   ]
  },
  {
   "cell_type": "code",
   "execution_count": 12,
   "metadata": {},
   "outputs": [],
   "source": [
    "def adding_features(df):\n",
    "    #melt4 = melt.copy()\n",
    "    df['Last_Day_Calls'] = df.groupby(['index'])['Calls'].shift()\n",
    "    df['Last_Day_Diff'] = df.groupby(['index'])['Last_Day_Calls'].diff()\n",
    "    df['before_Last_Day_Calls'] = df.groupby(['index'])['Calls'].shift(2)\n",
    "    df['before_Last_Day_Diff'] = df.groupby(['index'])['before_Last_Day_Calls'].diff()\n",
    "    df['before-2_Last_Day_Calls'] = df.groupby(['index'])['Calls'].shift(3)\n",
    "    df['before-2_Last_Day_Diff'] = df.groupby(['index'])['before-2_Last_Day_Calls'].diff()\n",
    "    #df['before-4_Last_Day_Calls'] = df.groupby(['index'])['Calls'].shift(4)\n",
    "    #df['before-4_Last_Day_Diff'] = df.groupby(['index'])['before-4_Last_Day_Calls'].diff()\n",
    "    df= df.dropna()\n",
    "    return df"
   ]
  },
  {
   "cell_type": "code",
   "execution_count": 13,
   "metadata": {},
   "outputs": [],
   "source": [
    "start_date = '2019-01-01'\n",
    "end_date   = '2019-01-30'\n",
    "\n",
    "JanDays = dateList(start_date, end_date)"
   ]
  },
  {
   "cell_type": "code",
   "execution_count": 14,
   "metadata": {},
   "outputs": [],
   "source": [
    "start_date = '2019-02-01'\n",
    "end_date   = '2019-02-26'\n",
    "FebDays = dateList(start_date, end_date)"
   ]
  },
  {
   "cell_type": "code",
   "execution_count": 15,
   "metadata": {},
   "outputs": [
    {
     "data": {
      "text/html": [
       "<div>\n",
       "<style scoped>\n",
       "    .dataframe tbody tr th:only-of-type {\n",
       "        vertical-align: middle;\n",
       "    }\n",
       "\n",
       "    .dataframe tbody tr th {\n",
       "        vertical-align: top;\n",
       "    }\n",
       "\n",
       "    .dataframe thead th {\n",
       "        text-align: right;\n",
       "    }\n",
       "</style>\n",
       "<table border=\"1\" class=\"dataframe\">\n",
       "  <thead>\n",
       "    <tr style=\"text-align: right;\">\n",
       "      <th></th>\n",
       "      <th>Day_1</th>\n",
       "      <th>Day_3</th>\n",
       "      <th>Day_5</th>\n",
       "      <th>Day_7</th>\n",
       "      <th>Day_9</th>\n",
       "      <th>Day_11</th>\n",
       "      <th>Day_13</th>\n",
       "      <th>Day_15</th>\n",
       "      <th>Day_17</th>\n",
       "      <th>Day_19</th>\n",
       "      <th>Day_21</th>\n",
       "      <th>Day_23</th>\n",
       "      <th>Day_25</th>\n",
       "      <th>Day_27</th>\n",
       "      <th>Day_29</th>\n",
       "    </tr>\n",
       "  </thead>\n",
       "  <tbody>\n",
       "    <tr>\n",
       "      <th>215</th>\n",
       "      <td>179.0</td>\n",
       "      <td>321.0</td>\n",
       "      <td>24.0</td>\n",
       "      <td>356.0</td>\n",
       "      <td>383.0</td>\n",
       "      <td>198</td>\n",
       "      <td>273</td>\n",
       "      <td>425</td>\n",
       "      <td>477</td>\n",
       "      <td>42.0</td>\n",
       "      <td>384</td>\n",
       "      <td>388</td>\n",
       "      <td>226</td>\n",
       "      <td>219.0</td>\n",
       "      <td>399</td>\n",
       "    </tr>\n",
       "    <tr>\n",
       "      <th>2581</th>\n",
       "      <td>21.0</td>\n",
       "      <td>70.0</td>\n",
       "      <td>0.0</td>\n",
       "      <td>49.0</td>\n",
       "      <td>38.0</td>\n",
       "      <td>30</td>\n",
       "      <td>13</td>\n",
       "      <td>30</td>\n",
       "      <td>77</td>\n",
       "      <td>0.0</td>\n",
       "      <td>57</td>\n",
       "      <td>39</td>\n",
       "      <td>17</td>\n",
       "      <td>14.0</td>\n",
       "      <td>40</td>\n",
       "    </tr>\n",
       "    <tr>\n",
       "      <th>3363</th>\n",
       "      <td>131.0</td>\n",
       "      <td>257.0</td>\n",
       "      <td>13.0</td>\n",
       "      <td>251.0</td>\n",
       "      <td>248.0</td>\n",
       "      <td>164</td>\n",
       "      <td>185</td>\n",
       "      <td>261</td>\n",
       "      <td>267</td>\n",
       "      <td>19.0</td>\n",
       "      <td>333</td>\n",
       "      <td>260</td>\n",
       "      <td>112</td>\n",
       "      <td>166.0</td>\n",
       "      <td>309</td>\n",
       "    </tr>\n",
       "    <tr>\n",
       "      <th>8068</th>\n",
       "      <td>74.0</td>\n",
       "      <td>209.0</td>\n",
       "      <td>9.0</td>\n",
       "      <td>159.0</td>\n",
       "      <td>187.0</td>\n",
       "      <td>89</td>\n",
       "      <td>105</td>\n",
       "      <td>198</td>\n",
       "      <td>236</td>\n",
       "      <td>7.0</td>\n",
       "      <td>197</td>\n",
       "      <td>171</td>\n",
       "      <td>113</td>\n",
       "      <td>103.0</td>\n",
       "      <td>221</td>\n",
       "    </tr>\n",
       "    <tr>\n",
       "      <th>39159</th>\n",
       "      <td>0.0</td>\n",
       "      <td>3.0</td>\n",
       "      <td>2.0</td>\n",
       "      <td>17.0</td>\n",
       "      <td>28.0</td>\n",
       "      <td>10</td>\n",
       "      <td>25</td>\n",
       "      <td>54</td>\n",
       "      <td>47</td>\n",
       "      <td>3.0</td>\n",
       "      <td>40</td>\n",
       "      <td>68</td>\n",
       "      <td>23</td>\n",
       "      <td>34.0</td>\n",
       "      <td>41</td>\n",
       "    </tr>\n",
       "    <tr>\n",
       "      <th>87520</th>\n",
       "      <td>86.0</td>\n",
       "      <td>255.0</td>\n",
       "      <td>122.0</td>\n",
       "      <td>249.0</td>\n",
       "      <td>264.0</td>\n",
       "      <td>250</td>\n",
       "      <td>104</td>\n",
       "      <td>229</td>\n",
       "      <td>200</td>\n",
       "      <td>103.0</td>\n",
       "      <td>202</td>\n",
       "      <td>295</td>\n",
       "      <td>209</td>\n",
       "      <td>144.0</td>\n",
       "      <td>232</td>\n",
       "    </tr>\n",
       "    <tr>\n",
       "      <th>372301</th>\n",
       "      <td>248.0</td>\n",
       "      <td>574.0</td>\n",
       "      <td>212.0</td>\n",
       "      <td>503.0</td>\n",
       "      <td>563.0</td>\n",
       "      <td>472</td>\n",
       "      <td>317</td>\n",
       "      <td>588</td>\n",
       "      <td>680</td>\n",
       "      <td>227.0</td>\n",
       "      <td>587</td>\n",
       "      <td>650</td>\n",
       "      <td>417</td>\n",
       "      <td>354.0</td>\n",
       "      <td>636</td>\n",
       "    </tr>\n",
       "    <tr>\n",
       "      <th>797391</th>\n",
       "      <td>0.0</td>\n",
       "      <td>0.0</td>\n",
       "      <td>0.0</td>\n",
       "      <td>0.0</td>\n",
       "      <td>0.0</td>\n",
       "      <td>1</td>\n",
       "      <td>3</td>\n",
       "      <td>3</td>\n",
       "      <td>4</td>\n",
       "      <td>0.0</td>\n",
       "      <td>2</td>\n",
       "      <td>1</td>\n",
       "      <td>1</td>\n",
       "      <td>0.0</td>\n",
       "      <td>2</td>\n",
       "    </tr>\n",
       "    <tr>\n",
       "      <th>900995</th>\n",
       "      <td>1.0</td>\n",
       "      <td>9.0</td>\n",
       "      <td>0.0</td>\n",
       "      <td>10.0</td>\n",
       "      <td>5.0</td>\n",
       "      <td>5</td>\n",
       "      <td>2</td>\n",
       "      <td>24</td>\n",
       "      <td>9</td>\n",
       "      <td>1.0</td>\n",
       "      <td>7</td>\n",
       "      <td>9</td>\n",
       "      <td>8</td>\n",
       "      <td>2.0</td>\n",
       "      <td>11</td>\n",
       "    </tr>\n",
       "  </tbody>\n",
       "</table>\n",
       "</div>"
      ],
      "text/plain": [
       "        Day_1  Day_3  Day_5  Day_7  Day_9  Day_11  Day_13  Day_15  Day_17  \\\n",
       "215     179.0  321.0   24.0  356.0  383.0     198     273     425     477   \n",
       "2581     21.0   70.0    0.0   49.0   38.0      30      13      30      77   \n",
       "3363    131.0  257.0   13.0  251.0  248.0     164     185     261     267   \n",
       "8068     74.0  209.0    9.0  159.0  187.0      89     105     198     236   \n",
       "39159     0.0    3.0    2.0   17.0   28.0      10      25      54      47   \n",
       "87520    86.0  255.0  122.0  249.0  264.0     250     104     229     200   \n",
       "372301  248.0  574.0  212.0  503.0  563.0     472     317     588     680   \n",
       "797391    0.0    0.0    0.0    0.0    0.0       1       3       3       4   \n",
       "900995    1.0    9.0    0.0   10.0    5.0       5       2      24       9   \n",
       "\n",
       "        Day_19  Day_21  Day_23  Day_25  Day_27  Day_29  \n",
       "215       42.0     384     388     226   219.0     399  \n",
       "2581       0.0      57      39      17    14.0      40  \n",
       "3363      19.0     333     260     112   166.0     309  \n",
       "8068       7.0     197     171     113   103.0     221  \n",
       "39159      3.0      40      68      23    34.0      41  \n",
       "87520    103.0     202     295     209   144.0     232  \n",
       "372301   227.0     587     650     417   354.0     636  \n",
       "797391     0.0       2       1       1     0.0       2  \n",
       "900995     1.0       7       9       8     2.0      11  "
      ]
     },
     "execution_count": 15,
     "metadata": {},
     "output_type": "execute_result"
    }
   ],
   "source": [
    "calls_Jan = data_calls2(df, JanDays )\n",
    "calls_Jan"
   ]
  },
  {
   "cell_type": "code",
   "execution_count": 16,
   "metadata": {},
   "outputs": [
    {
     "data": {
      "text/plain": [
       "Text(0, 0.5, 'Calls')"
      ]
     },
     "execution_count": 16,
     "metadata": {},
     "output_type": "execute_result"
    },
    {
     "data": {
      "image/png": "[encoded data removed]",
      "text/plain": [
       "<Figure size 1152x576 with 1 Axes>"
      ]
     },
     "metadata": {
      "needs_background": "light"
     },
     "output_type": "display_data"
    }
   ],
   "source": [
    "calls_Jan_T = calls_Jan.T\n",
    "calls_Jan_T.plot(title=' alternate date vs calls_onTime', figsize=(16,8),\n",
    "                 ylim=(0,800))\n",
    "plt.xlabel('alternate date check')\n",
    "plt.ylabel('Calls')"
   ]
  },
  {
   "cell_type": "code",
   "execution_count": 17,
   "metadata": {},
   "outputs": [
    {
     "data": {
      "text/html": [
       "<div>\n",
       "<style scoped>\n",
       "    .dataframe tbody tr th:only-of-type {\n",
       "        vertical-align: middle;\n",
       "    }\n",
       "\n",
       "    .dataframe tbody tr th {\n",
       "        vertical-align: top;\n",
       "    }\n",
       "\n",
       "    .dataframe thead th {\n",
       "        text-align: right;\n",
       "    }\n",
       "</style>\n",
       "<table border=\"1\" class=\"dataframe\">\n",
       "  <thead>\n",
       "    <tr style=\"text-align: right;\">\n",
       "      <th></th>\n",
       "      <th>Day_1</th>\n",
       "      <th>Day_3</th>\n",
       "      <th>Day_5</th>\n",
       "      <th>Day_7</th>\n",
       "      <th>Day_9</th>\n",
       "      <th>Day_11</th>\n",
       "      <th>Day_13</th>\n",
       "      <th>Day_15</th>\n",
       "      <th>Day_17</th>\n",
       "      <th>Day_19</th>\n",
       "      <th>Day_21</th>\n",
       "      <th>Day_23</th>\n",
       "      <th>Day_25</th>\n",
       "      <th>Day_27</th>\n",
       "      <th>Day_29</th>\n",
       "    </tr>\n",
       "  </thead>\n",
       "  <tbody>\n",
       "    <tr>\n",
       "      <th>215</th>\n",
       "      <td>136.0</td>\n",
       "      <td>271.0</td>\n",
       "      <td>19.0</td>\n",
       "      <td>305.0</td>\n",
       "      <td>296.0</td>\n",
       "      <td>141</td>\n",
       "      <td>180</td>\n",
       "      <td>345</td>\n",
       "      <td>364</td>\n",
       "      <td>32.0</td>\n",
       "      <td>297</td>\n",
       "      <td>303.0</td>\n",
       "      <td>185</td>\n",
       "      <td>178.0</td>\n",
       "      <td>313</td>\n",
       "    </tr>\n",
       "    <tr>\n",
       "      <th>2581</th>\n",
       "      <td>20.0</td>\n",
       "      <td>65.0</td>\n",
       "      <td>0.0</td>\n",
       "      <td>49.0</td>\n",
       "      <td>36.0</td>\n",
       "      <td>28</td>\n",
       "      <td>12</td>\n",
       "      <td>24</td>\n",
       "      <td>74</td>\n",
       "      <td>0.0</td>\n",
       "      <td>48</td>\n",
       "      <td>35.0</td>\n",
       "      <td>16</td>\n",
       "      <td>14.0</td>\n",
       "      <td>37</td>\n",
       "    </tr>\n",
       "    <tr>\n",
       "      <th>3363</th>\n",
       "      <td>125.0</td>\n",
       "      <td>247.0</td>\n",
       "      <td>13.0</td>\n",
       "      <td>243.0</td>\n",
       "      <td>234.0</td>\n",
       "      <td>160</td>\n",
       "      <td>178</td>\n",
       "      <td>250</td>\n",
       "      <td>257</td>\n",
       "      <td>19.0</td>\n",
       "      <td>312</td>\n",
       "      <td>245.0</td>\n",
       "      <td>110</td>\n",
       "      <td>160.0</td>\n",
       "      <td>297</td>\n",
       "    </tr>\n",
       "    <tr>\n",
       "      <th>8068</th>\n",
       "      <td>28.0</td>\n",
       "      <td>95.0</td>\n",
       "      <td>9.0</td>\n",
       "      <td>77.0</td>\n",
       "      <td>77.0</td>\n",
       "      <td>24</td>\n",
       "      <td>47</td>\n",
       "      <td>82</td>\n",
       "      <td>127</td>\n",
       "      <td>5.0</td>\n",
       "      <td>81</td>\n",
       "      <td>59.0</td>\n",
       "      <td>60</td>\n",
       "      <td>48.0</td>\n",
       "      <td>101</td>\n",
       "    </tr>\n",
       "    <tr>\n",
       "      <th>39159</th>\n",
       "      <td>0.0</td>\n",
       "      <td>3.0</td>\n",
       "      <td>2.0</td>\n",
       "      <td>16.0</td>\n",
       "      <td>26.0</td>\n",
       "      <td>10</td>\n",
       "      <td>21</td>\n",
       "      <td>41</td>\n",
       "      <td>39</td>\n",
       "      <td>2.0</td>\n",
       "      <td>31</td>\n",
       "      <td>56.0</td>\n",
       "      <td>18</td>\n",
       "      <td>30.0</td>\n",
       "      <td>33</td>\n",
       "    </tr>\n",
       "    <tr>\n",
       "      <th>87520</th>\n",
       "      <td>61.0</td>\n",
       "      <td>182.0</td>\n",
       "      <td>104.0</td>\n",
       "      <td>183.0</td>\n",
       "      <td>188.0</td>\n",
       "      <td>187</td>\n",
       "      <td>84</td>\n",
       "      <td>164</td>\n",
       "      <td>133</td>\n",
       "      <td>92.0</td>\n",
       "      <td>139</td>\n",
       "      <td>197.0</td>\n",
       "      <td>150</td>\n",
       "      <td>119.0</td>\n",
       "      <td>169</td>\n",
       "    </tr>\n",
       "    <tr>\n",
       "      <th>372301</th>\n",
       "      <td>161.0</td>\n",
       "      <td>375.0</td>\n",
       "      <td>142.0</td>\n",
       "      <td>355.0</td>\n",
       "      <td>381.0</td>\n",
       "      <td>289</td>\n",
       "      <td>223</td>\n",
       "      <td>379</td>\n",
       "      <td>483</td>\n",
       "      <td>148.0</td>\n",
       "      <td>371</td>\n",
       "      <td>420.0</td>\n",
       "      <td>264</td>\n",
       "      <td>236.0</td>\n",
       "      <td>392</td>\n",
       "    </tr>\n",
       "    <tr>\n",
       "      <th>797391</th>\n",
       "      <td>0.0</td>\n",
       "      <td>0.0</td>\n",
       "      <td>0.0</td>\n",
       "      <td>0.0</td>\n",
       "      <td>0.0</td>\n",
       "      <td>1</td>\n",
       "      <td>3</td>\n",
       "      <td>3</td>\n",
       "      <td>4</td>\n",
       "      <td>0.0</td>\n",
       "      <td>2</td>\n",
       "      <td>0.0</td>\n",
       "      <td>1</td>\n",
       "      <td>0.0</td>\n",
       "      <td>2</td>\n",
       "    </tr>\n",
       "    <tr>\n",
       "      <th>900995</th>\n",
       "      <td>1.0</td>\n",
       "      <td>7.0</td>\n",
       "      <td>0.0</td>\n",
       "      <td>10.0</td>\n",
       "      <td>5.0</td>\n",
       "      <td>3</td>\n",
       "      <td>2</td>\n",
       "      <td>21</td>\n",
       "      <td>9</td>\n",
       "      <td>1.0</td>\n",
       "      <td>5</td>\n",
       "      <td>6.0</td>\n",
       "      <td>3</td>\n",
       "      <td>1.0</td>\n",
       "      <td>9</td>\n",
       "    </tr>\n",
       "  </tbody>\n",
       "</table>\n",
       "</div>"
      ],
      "text/plain": [
       "        Day_1  Day_3  Day_5  Day_7  Day_9  Day_11  Day_13  Day_15  Day_17  \\\n",
       "215     136.0  271.0   19.0  305.0  296.0     141     180     345     364   \n",
       "2581     20.0   65.0    0.0   49.0   36.0      28      12      24      74   \n",
       "3363    125.0  247.0   13.0  243.0  234.0     160     178     250     257   \n",
       "8068     28.0   95.0    9.0   77.0   77.0      24      47      82     127   \n",
       "39159     0.0    3.0    2.0   16.0   26.0      10      21      41      39   \n",
       "87520    61.0  182.0  104.0  183.0  188.0     187      84     164     133   \n",
       "372301  161.0  375.0  142.0  355.0  381.0     289     223     379     483   \n",
       "797391    0.0    0.0    0.0    0.0    0.0       1       3       3       4   \n",
       "900995    1.0    7.0    0.0   10.0    5.0       3       2      21       9   \n",
       "\n",
       "        Day_19  Day_21  Day_23  Day_25  Day_27  Day_29  \n",
       "215       32.0     297   303.0     185   178.0     313  \n",
       "2581       0.0      48    35.0      16    14.0      37  \n",
       "3363      19.0     312   245.0     110   160.0     297  \n",
       "8068       5.0      81    59.0      60    48.0     101  \n",
       "39159      2.0      31    56.0      18    30.0      33  \n",
       "87520     92.0     139   197.0     150   119.0     169  \n",
       "372301   148.0     371   420.0     264   236.0     392  \n",
       "797391     0.0       2     0.0       1     0.0       2  \n",
       "900995     1.0       5     6.0       3     1.0       9  "
      ]
     },
     "execution_count": 17,
     "metadata": {},
     "output_type": "execute_result"
    }
   ],
   "source": [
    "calls_onTime_Jan = data_calls2_onTime(df, JanDays )\n",
    "calls_onTime_Jan"
   ]
  },
  {
   "cell_type": "code",
   "execution_count": 18,
   "metadata": {},
   "outputs": [
    {
     "data": {
      "text/plain": [
       "Text(0, 0.5, 'Calls')"
      ]
     },
     "execution_count": 18,
     "metadata": {},
     "output_type": "execute_result"
    },
    {
     "data": {
      "image/png": "[encoded data removed]",
      "text/plain": [
       "<Figure size 1152x576 with 1 Axes>"
      ]
     },
     "metadata": {
      "needs_background": "light"
     },
     "output_type": "display_data"
    }
   ],
   "source": [
    "calls_onTime_Jan_T = calls_onTime_Jan.T\n",
    "\n",
    "calls_onTime_Jan_T.plot(title=' alternate date vs calls_onTime', figsize=(16,8),\n",
    "                 ylim=(0,550))\n",
    "plt.xlabel('alternate date check')\n",
    "plt.ylabel('Calls')"
   ]
  },
  {
   "cell_type": "code",
   "execution_count": 19,
   "metadata": {},
   "outputs": [
    {
     "data": {
      "text/html": [
       "<div>\n",
       "<style scoped>\n",
       "    .dataframe tbody tr th:only-of-type {\n",
       "        vertical-align: middle;\n",
       "    }\n",
       "\n",
       "    .dataframe tbody tr th {\n",
       "        vertical-align: top;\n",
       "    }\n",
       "\n",
       "    .dataframe thead th {\n",
       "        text-align: right;\n",
       "    }\n",
       "</style>\n",
       "<table border=\"1\" class=\"dataframe\">\n",
       "  <thead>\n",
       "    <tr style=\"text-align: right;\">\n",
       "      <th></th>\n",
       "      <th>index</th>\n",
       "      <th>Days</th>\n",
       "      <th>Calls</th>\n",
       "    </tr>\n",
       "  </thead>\n",
       "  <tbody>\n",
       "    <tr>\n",
       "      <th>0</th>\n",
       "      <td>215</td>\n",
       "      <td>1</td>\n",
       "      <td>179.0</td>\n",
       "    </tr>\n",
       "    <tr>\n",
       "      <th>1</th>\n",
       "      <td>2581</td>\n",
       "      <td>1</td>\n",
       "      <td>21.0</td>\n",
       "    </tr>\n",
       "    <tr>\n",
       "      <th>2</th>\n",
       "      <td>3363</td>\n",
       "      <td>1</td>\n",
       "      <td>131.0</td>\n",
       "    </tr>\n",
       "    <tr>\n",
       "      <th>3</th>\n",
       "      <td>8068</td>\n",
       "      <td>1</td>\n",
       "      <td>74.0</td>\n",
       "    </tr>\n",
       "    <tr>\n",
       "      <th>4</th>\n",
       "      <td>39159</td>\n",
       "      <td>1</td>\n",
       "      <td>0.0</td>\n",
       "    </tr>\n",
       "  </tbody>\n",
       "</table>\n",
       "</div>"
      ],
      "text/plain": [
       "   index  Days  Calls\n",
       "0    215     1  179.0\n",
       "1   2581     1   21.0\n",
       "2   3363     1  131.0\n",
       "3   8068     1   74.0\n",
       "4  39159     1    0.0"
      ]
     },
     "execution_count": 19,
     "metadata": {},
     "output_type": "execute_result"
    }
   ],
   "source": [
    "data_calls_Jan= melting_data(calls_Jan) \n",
    "data_calls_Jan.head()\n"
   ]
  },
  {
   "cell_type": "code",
   "execution_count": 20,
   "metadata": {},
   "outputs": [
    {
     "data": {
      "text/plain": [
       "<matplotlib.axes._subplots.AxesSubplot at 0x1a24c3d470>"
      ]
     },
     "execution_count": 20,
     "metadata": {},
     "output_type": "execute_result"
    },
    {
     "data": {
      "image/png": "[encoded data removed]",
      "text/plain": [
       "<Figure size 720x360 with 1 Axes>"
      ]
     },
     "metadata": {
      "needs_background": "light"
     },
     "output_type": "display_data"
    }
   ],
   "source": [
    "data_calls_Jan['Calls'].hist(bins=20, figsize=(10,5))"
   ]
  },
  {
   "cell_type": "code",
   "execution_count": 21,
   "metadata": {},
   "outputs": [
    {
     "data": {
      "text/html": [
       "<div>\n",
       "<style scoped>\n",
       "    .dataframe tbody tr th:only-of-type {\n",
       "        vertical-align: middle;\n",
       "    }\n",
       "\n",
       "    .dataframe tbody tr th {\n",
       "        vertical-align: top;\n",
       "    }\n",
       "\n",
       "    .dataframe thead th {\n",
       "        text-align: right;\n",
       "    }\n",
       "</style>\n",
       "<table border=\"1\" class=\"dataframe\">\n",
       "  <thead>\n",
       "    <tr style=\"text-align: right;\">\n",
       "      <th></th>\n",
       "      <th>index</th>\n",
       "      <th>Days</th>\n",
       "      <th>Calls</th>\n",
       "      <th>Last_Day_Calls</th>\n",
       "      <th>Last_Day_Diff</th>\n",
       "      <th>before_Last_Day_Calls</th>\n",
       "      <th>before_Last_Day_Diff</th>\n",
       "      <th>before-2_Last_Day_Calls</th>\n",
       "      <th>before-2_Last_Day_Diff</th>\n",
       "    </tr>\n",
       "  </thead>\n",
       "  <tbody>\n",
       "    <tr>\n",
       "      <th>36</th>\n",
       "      <td>215</td>\n",
       "      <td>9</td>\n",
       "      <td>383.0</td>\n",
       "      <td>356.0</td>\n",
       "      <td>332.0</td>\n",
       "      <td>24.0</td>\n",
       "      <td>-297.0</td>\n",
       "      <td>321.0</td>\n",
       "      <td>142.0</td>\n",
       "    </tr>\n",
       "    <tr>\n",
       "      <th>37</th>\n",
       "      <td>2581</td>\n",
       "      <td>9</td>\n",
       "      <td>38.0</td>\n",
       "      <td>49.0</td>\n",
       "      <td>49.0</td>\n",
       "      <td>0.0</td>\n",
       "      <td>-70.0</td>\n",
       "      <td>70.0</td>\n",
       "      <td>49.0</td>\n",
       "    </tr>\n",
       "    <tr>\n",
       "      <th>38</th>\n",
       "      <td>3363</td>\n",
       "      <td>9</td>\n",
       "      <td>248.0</td>\n",
       "      <td>251.0</td>\n",
       "      <td>238.0</td>\n",
       "      <td>13.0</td>\n",
       "      <td>-244.0</td>\n",
       "      <td>257.0</td>\n",
       "      <td>126.0</td>\n",
       "    </tr>\n",
       "    <tr>\n",
       "      <th>39</th>\n",
       "      <td>8068</td>\n",
       "      <td>9</td>\n",
       "      <td>187.0</td>\n",
       "      <td>159.0</td>\n",
       "      <td>150.0</td>\n",
       "      <td>9.0</td>\n",
       "      <td>-200.0</td>\n",
       "      <td>209.0</td>\n",
       "      <td>135.0</td>\n",
       "    </tr>\n",
       "    <tr>\n",
       "      <th>40</th>\n",
       "      <td>39159</td>\n",
       "      <td>9</td>\n",
       "      <td>28.0</td>\n",
       "      <td>17.0</td>\n",
       "      <td>15.0</td>\n",
       "      <td>2.0</td>\n",
       "      <td>-1.0</td>\n",
       "      <td>3.0</td>\n",
       "      <td>3.0</td>\n",
       "    </tr>\n",
       "  </tbody>\n",
       "</table>\n",
       "</div>"
      ],
      "text/plain": [
       "    index  Days  Calls  Last_Day_Calls  Last_Day_Diff  before_Last_Day_Calls  \\\n",
       "36    215     9  383.0           356.0          332.0                   24.0   \n",
       "37   2581     9   38.0            49.0           49.0                    0.0   \n",
       "38   3363     9  248.0           251.0          238.0                   13.0   \n",
       "39   8068     9  187.0           159.0          150.0                    9.0   \n",
       "40  39159     9   28.0            17.0           15.0                    2.0   \n",
       "\n",
       "    before_Last_Day_Diff  before-2_Last_Day_Calls  before-2_Last_Day_Diff  \n",
       "36                -297.0                    321.0                   142.0  \n",
       "37                 -70.0                     70.0                    49.0  \n",
       "38                -244.0                    257.0                   126.0  \n",
       "39                -200.0                    209.0                   135.0  \n",
       "40                  -1.0                      3.0                     3.0  "
      ]
     },
     "execution_count": 21,
     "metadata": {},
     "output_type": "execute_result"
    }
   ],
   "source": [
    "data_calls_Jan = adding_features(data_calls_Jan)\n",
    "data_calls_Jan.head()"
   ]
  },
  {
   "cell_type": "code",
   "execution_count": 22,
   "metadata": {},
   "outputs": [
    {
     "data": {
      "text/html": [
       "<div>\n",
       "<style scoped>\n",
       "    .dataframe tbody tr th:only-of-type {\n",
       "        vertical-align: middle;\n",
       "    }\n",
       "\n",
       "    .dataframe tbody tr th {\n",
       "        vertical-align: top;\n",
       "    }\n",
       "\n",
       "    .dataframe thead th {\n",
       "        text-align: right;\n",
       "    }\n",
       "</style>\n",
       "<table border=\"1\" class=\"dataframe\">\n",
       "  <thead>\n",
       "    <tr style=\"text-align: right;\">\n",
       "      <th></th>\n",
       "      <th>index</th>\n",
       "      <th>Days</th>\n",
       "      <th>Calls</th>\n",
       "    </tr>\n",
       "  </thead>\n",
       "  <tbody>\n",
       "    <tr>\n",
       "      <th>0</th>\n",
       "      <td>215</td>\n",
       "      <td>1</td>\n",
       "      <td>136.0</td>\n",
       "    </tr>\n",
       "    <tr>\n",
       "      <th>1</th>\n",
       "      <td>2581</td>\n",
       "      <td>1</td>\n",
       "      <td>20.0</td>\n",
       "    </tr>\n",
       "    <tr>\n",
       "      <th>2</th>\n",
       "      <td>3363</td>\n",
       "      <td>1</td>\n",
       "      <td>125.0</td>\n",
       "    </tr>\n",
       "    <tr>\n",
       "      <th>3</th>\n",
       "      <td>8068</td>\n",
       "      <td>1</td>\n",
       "      <td>28.0</td>\n",
       "    </tr>\n",
       "    <tr>\n",
       "      <th>4</th>\n",
       "      <td>39159</td>\n",
       "      <td>1</td>\n",
       "      <td>0.0</td>\n",
       "    </tr>\n",
       "  </tbody>\n",
       "</table>\n",
       "</div>"
      ],
      "text/plain": [
       "   index  Days  Calls\n",
       "0    215     1  136.0\n",
       "1   2581     1   20.0\n",
       "2   3363     1  125.0\n",
       "3   8068     1   28.0\n",
       "4  39159     1    0.0"
      ]
     },
     "execution_count": 22,
     "metadata": {},
     "output_type": "execute_result"
    }
   ],
   "source": [
    "data_calls_onTime_Jan= melting_data(calls_onTime_Jan) \n",
    "data_calls_onTime_Jan.head()\n"
   ]
  },
  {
   "cell_type": "code",
   "execution_count": 23,
   "metadata": {},
   "outputs": [
    {
     "data": {
      "text/plain": [
       "<matplotlib.axes._subplots.AxesSubplot at 0x1a24a8e160>"
      ]
     },
     "execution_count": 23,
     "metadata": {},
     "output_type": "execute_result"
    },
    {
     "data": {
      "image/png": "[encoded data removed]",
      "text/plain": [
       "<Figure size 720x360 with 1 Axes>"
      ]
     },
     "metadata": {
      "needs_background": "light"
     },
     "output_type": "display_data"
    }
   ],
   "source": [
    "data_calls_onTime_Jan['Calls'].hist(bins=20, figsize=(10,5))"
   ]
  },
  {
   "cell_type": "code",
   "execution_count": 24,
   "metadata": {},
   "outputs": [
    {
     "data": {
      "text/html": [
       "<div>\n",
       "<style scoped>\n",
       "    .dataframe tbody tr th:only-of-type {\n",
       "        vertical-align: middle;\n",
       "    }\n",
       "\n",
       "    .dataframe tbody tr th {\n",
       "        vertical-align: top;\n",
       "    }\n",
       "\n",
       "    .dataframe thead th {\n",
       "        text-align: right;\n",
       "    }\n",
       "</style>\n",
       "<table border=\"1\" class=\"dataframe\">\n",
       "  <thead>\n",
       "    <tr style=\"text-align: right;\">\n",
       "      <th></th>\n",
       "      <th>index</th>\n",
       "      <th>Days</th>\n",
       "      <th>Calls</th>\n",
       "      <th>Last_Day_Calls</th>\n",
       "      <th>Last_Day_Diff</th>\n",
       "      <th>before_Last_Day_Calls</th>\n",
       "      <th>before_Last_Day_Diff</th>\n",
       "      <th>before-2_Last_Day_Calls</th>\n",
       "      <th>before-2_Last_Day_Diff</th>\n",
       "    </tr>\n",
       "  </thead>\n",
       "  <tbody>\n",
       "    <tr>\n",
       "      <th>36</th>\n",
       "      <td>215</td>\n",
       "      <td>9</td>\n",
       "      <td>296.0</td>\n",
       "      <td>305.0</td>\n",
       "      <td>286.0</td>\n",
       "      <td>19.0</td>\n",
       "      <td>-252.0</td>\n",
       "      <td>271.0</td>\n",
       "      <td>135.0</td>\n",
       "    </tr>\n",
       "    <tr>\n",
       "      <th>37</th>\n",
       "      <td>2581</td>\n",
       "      <td>9</td>\n",
       "      <td>36.0</td>\n",
       "      <td>49.0</td>\n",
       "      <td>49.0</td>\n",
       "      <td>0.0</td>\n",
       "      <td>-65.0</td>\n",
       "      <td>65.0</td>\n",
       "      <td>45.0</td>\n",
       "    </tr>\n",
       "    <tr>\n",
       "      <th>38</th>\n",
       "      <td>3363</td>\n",
       "      <td>9</td>\n",
       "      <td>234.0</td>\n",
       "      <td>243.0</td>\n",
       "      <td>230.0</td>\n",
       "      <td>13.0</td>\n",
       "      <td>-234.0</td>\n",
       "      <td>247.0</td>\n",
       "      <td>122.0</td>\n",
       "    </tr>\n",
       "    <tr>\n",
       "      <th>39</th>\n",
       "      <td>8068</td>\n",
       "      <td>9</td>\n",
       "      <td>77.0</td>\n",
       "      <td>77.0</td>\n",
       "      <td>68.0</td>\n",
       "      <td>9.0</td>\n",
       "      <td>-86.0</td>\n",
       "      <td>95.0</td>\n",
       "      <td>67.0</td>\n",
       "    </tr>\n",
       "    <tr>\n",
       "      <th>40</th>\n",
       "      <td>39159</td>\n",
       "      <td>9</td>\n",
       "      <td>26.0</td>\n",
       "      <td>16.0</td>\n",
       "      <td>14.0</td>\n",
       "      <td>2.0</td>\n",
       "      <td>-1.0</td>\n",
       "      <td>3.0</td>\n",
       "      <td>3.0</td>\n",
       "    </tr>\n",
       "  </tbody>\n",
       "</table>\n",
       "</div>"
      ],
      "text/plain": [
       "    index  Days  Calls  Last_Day_Calls  Last_Day_Diff  before_Last_Day_Calls  \\\n",
       "36    215     9  296.0           305.0          286.0                   19.0   \n",
       "37   2581     9   36.0            49.0           49.0                    0.0   \n",
       "38   3363     9  234.0           243.0          230.0                   13.0   \n",
       "39   8068     9   77.0            77.0           68.0                    9.0   \n",
       "40  39159     9   26.0            16.0           14.0                    2.0   \n",
       "\n",
       "    before_Last_Day_Diff  before-2_Last_Day_Calls  before-2_Last_Day_Diff  \n",
       "36                -252.0                    271.0                   135.0  \n",
       "37                 -65.0                     65.0                    45.0  \n",
       "38                -234.0                    247.0                   122.0  \n",
       "39                 -86.0                     95.0                    67.0  \n",
       "40                  -1.0                      3.0                     3.0  "
      ]
     },
     "execution_count": 24,
     "metadata": {},
     "output_type": "execute_result"
    }
   ],
   "source": [
    "data_calls_onTime_Jan = adding_features(data_calls_onTime_Jan)\n",
    "data_calls_onTime_Jan.head()"
   ]
  },
  {
   "cell_type": "code",
   "execution_count": 25,
   "metadata": {},
   "outputs": [
    {
     "data": {
      "text/html": [
       "<div>\n",
       "<style scoped>\n",
       "    .dataframe tbody tr th:only-of-type {\n",
       "        vertical-align: middle;\n",
       "    }\n",
       "\n",
       "    .dataframe tbody tr th {\n",
       "        vertical-align: top;\n",
       "    }\n",
       "\n",
       "    .dataframe thead th {\n",
       "        text-align: right;\n",
       "    }\n",
       "</style>\n",
       "<table border=\"1\" class=\"dataframe\">\n",
       "  <thead>\n",
       "    <tr style=\"text-align: right;\">\n",
       "      <th></th>\n",
       "      <th>index</th>\n",
       "      <th>Days</th>\n",
       "      <th>Calls</th>\n",
       "      <th>Last_Day_Calls</th>\n",
       "      <th>Last_Day_Diff</th>\n",
       "      <th>before_Last_Day_Calls</th>\n",
       "      <th>before_Last_Day_Diff</th>\n",
       "      <th>before-2_Last_Day_Calls</th>\n",
       "      <th>before-2_Last_Day_Diff</th>\n",
       "    </tr>\n",
       "  </thead>\n",
       "  <tbody>\n",
       "    <tr>\n",
       "      <th>36</th>\n",
       "      <td>215</td>\n",
       "      <td>9</td>\n",
       "      <td>27.0</td>\n",
       "      <td>395.0</td>\n",
       "      <td>48.0</td>\n",
       "      <td>347.0</td>\n",
       "      <td>158.0</td>\n",
       "      <td>189.0</td>\n",
       "      <td>-57.0</td>\n",
       "    </tr>\n",
       "    <tr>\n",
       "      <th>37</th>\n",
       "      <td>2581</td>\n",
       "      <td>9</td>\n",
       "      <td>5.0</td>\n",
       "      <td>41.0</td>\n",
       "      <td>10.0</td>\n",
       "      <td>31.0</td>\n",
       "      <td>19.0</td>\n",
       "      <td>12.0</td>\n",
       "      <td>-49.0</td>\n",
       "    </tr>\n",
       "    <tr>\n",
       "      <th>38</th>\n",
       "      <td>3363</td>\n",
       "      <td>9</td>\n",
       "      <td>10.0</td>\n",
       "      <td>313.0</td>\n",
       "      <td>11.0</td>\n",
       "      <td>302.0</td>\n",
       "      <td>138.0</td>\n",
       "      <td>164.0</td>\n",
       "      <td>23.0</td>\n",
       "    </tr>\n",
       "    <tr>\n",
       "      <th>39</th>\n",
       "      <td>8068</td>\n",
       "      <td>9</td>\n",
       "      <td>6.0</td>\n",
       "      <td>162.0</td>\n",
       "      <td>-28.0</td>\n",
       "      <td>190.0</td>\n",
       "      <td>91.0</td>\n",
       "      <td>99.0</td>\n",
       "      <td>-14.0</td>\n",
       "    </tr>\n",
       "    <tr>\n",
       "      <th>40</th>\n",
       "      <td>39159</td>\n",
       "      <td>9</td>\n",
       "      <td>1.0</td>\n",
       "      <td>61.0</td>\n",
       "      <td>12.0</td>\n",
       "      <td>49.0</td>\n",
       "      <td>17.0</td>\n",
       "      <td>32.0</td>\n",
       "      <td>-1.0</td>\n",
       "    </tr>\n",
       "  </tbody>\n",
       "</table>\n",
       "</div>"
      ],
      "text/plain": [
       "    index  Days  Calls  Last_Day_Calls  Last_Day_Diff  before_Last_Day_Calls  \\\n",
       "36    215     9   27.0           395.0           48.0                  347.0   \n",
       "37   2581     9    5.0            41.0           10.0                   31.0   \n",
       "38   3363     9   10.0           313.0           11.0                  302.0   \n",
       "39   8068     9    6.0           162.0          -28.0                  190.0   \n",
       "40  39159     9    1.0            61.0           12.0                   49.0   \n",
       "\n",
       "    before_Last_Day_Diff  before-2_Last_Day_Calls  before-2_Last_Day_Diff  \n",
       "36                 158.0                    189.0                   -57.0  \n",
       "37                  19.0                     12.0                   -49.0  \n",
       "38                 138.0                    164.0                    23.0  \n",
       "39                  91.0                     99.0                   -14.0  \n",
       "40                  17.0                     32.0                    -1.0  "
      ]
     },
     "execution_count": 25,
     "metadata": {},
     "output_type": "execute_result"
    }
   ],
   "source": [
    "calls_Feb = data_calls2(df, FebDays )\n",
    "\n",
    "data_calls_Feb = melting_data(calls_Feb)\n",
    "\n",
    "data_calls_Feb = adding_features(data_calls_Feb)\n",
    "\n",
    "data_calls_Feb.head()"
   ]
  },
  {
   "cell_type": "code",
   "execution_count": 26,
   "metadata": {},
   "outputs": [
    {
     "data": {
      "text/html": [
       "<div>\n",
       "<style scoped>\n",
       "    .dataframe tbody tr th:only-of-type {\n",
       "        vertical-align: middle;\n",
       "    }\n",
       "\n",
       "    .dataframe tbody tr th {\n",
       "        vertical-align: top;\n",
       "    }\n",
       "\n",
       "    .dataframe thead th {\n",
       "        text-align: right;\n",
       "    }\n",
       "</style>\n",
       "<table border=\"1\" class=\"dataframe\">\n",
       "  <thead>\n",
       "    <tr style=\"text-align: right;\">\n",
       "      <th></th>\n",
       "      <th>index</th>\n",
       "      <th>Days</th>\n",
       "      <th>Calls</th>\n",
       "      <th>Last_Day_Calls</th>\n",
       "      <th>Last_Day_Diff</th>\n",
       "      <th>before_Last_Day_Calls</th>\n",
       "      <th>before_Last_Day_Diff</th>\n",
       "      <th>before-2_Last_Day_Calls</th>\n",
       "      <th>before-2_Last_Day_Diff</th>\n",
       "    </tr>\n",
       "  </thead>\n",
       "  <tbody>\n",
       "    <tr>\n",
       "      <th>36</th>\n",
       "      <td>215</td>\n",
       "      <td>9</td>\n",
       "      <td>24.0</td>\n",
       "      <td>287.0</td>\n",
       "      <td>17.0</td>\n",
       "      <td>270.0</td>\n",
       "      <td>135.0</td>\n",
       "      <td>135.0</td>\n",
       "      <td>-56.0</td>\n",
       "    </tr>\n",
       "    <tr>\n",
       "      <th>37</th>\n",
       "      <td>2581</td>\n",
       "      <td>9</td>\n",
       "      <td>5.0</td>\n",
       "      <td>37.0</td>\n",
       "      <td>7.0</td>\n",
       "      <td>30.0</td>\n",
       "      <td>19.0</td>\n",
       "      <td>11.0</td>\n",
       "      <td>-49.0</td>\n",
       "    </tr>\n",
       "    <tr>\n",
       "      <th>38</th>\n",
       "      <td>3363</td>\n",
       "      <td>9</td>\n",
       "      <td>10.0</td>\n",
       "      <td>307.0</td>\n",
       "      <td>21.0</td>\n",
       "      <td>286.0</td>\n",
       "      <td>132.0</td>\n",
       "      <td>154.0</td>\n",
       "      <td>17.0</td>\n",
       "    </tr>\n",
       "    <tr>\n",
       "      <th>39</th>\n",
       "      <td>8068</td>\n",
       "      <td>9</td>\n",
       "      <td>4.0</td>\n",
       "      <td>69.0</td>\n",
       "      <td>-14.0</td>\n",
       "      <td>83.0</td>\n",
       "      <td>36.0</td>\n",
       "      <td>47.0</td>\n",
       "      <td>-2.0</td>\n",
       "    </tr>\n",
       "    <tr>\n",
       "      <th>40</th>\n",
       "      <td>39159</td>\n",
       "      <td>9</td>\n",
       "      <td>0.0</td>\n",
       "      <td>47.0</td>\n",
       "      <td>15.0</td>\n",
       "      <td>32.0</td>\n",
       "      <td>19.0</td>\n",
       "      <td>13.0</td>\n",
       "      <td>0.0</td>\n",
       "    </tr>\n",
       "  </tbody>\n",
       "</table>\n",
       "</div>"
      ],
      "text/plain": [
       "    index  Days  Calls  Last_Day_Calls  Last_Day_Diff  before_Last_Day_Calls  \\\n",
       "36    215     9   24.0           287.0           17.0                  270.0   \n",
       "37   2581     9    5.0            37.0            7.0                   30.0   \n",
       "38   3363     9   10.0           307.0           21.0                  286.0   \n",
       "39   8068     9    4.0            69.0          -14.0                   83.0   \n",
       "40  39159     9    0.0            47.0           15.0                   32.0   \n",
       "\n",
       "    before_Last_Day_Diff  before-2_Last_Day_Calls  before-2_Last_Day_Diff  \n",
       "36                 135.0                    135.0                   -56.0  \n",
       "37                  19.0                     11.0                   -49.0  \n",
       "38                 132.0                    154.0                    17.0  \n",
       "39                  36.0                     47.0                    -2.0  \n",
       "40                  19.0                     13.0                     0.0  "
      ]
     },
     "execution_count": 26,
     "metadata": {},
     "output_type": "execute_result"
    }
   ],
   "source": [
    "calls_onTime_Feb = data_calls2_onTime(df, FebDays )\n",
    "\n",
    "data_calls_onTime_Feb = melting_data(calls_onTime_Feb)\n",
    "\n",
    "data_calls_onTime_Feb = adding_features(data_calls_onTime_Feb)\n",
    "\n",
    "data_calls_onTime_Feb.head()"
   ]
  },
  {
   "cell_type": "code",
   "execution_count": null,
   "metadata": {},
   "outputs": [],
   "source": []
  },
  {
   "cell_type": "markdown",
   "metadata": {},
   "source": [
    "# Making predictive model"
   ]
  },
  {
   "cell_type": "code",
   "execution_count": 27,
   "metadata": {},
   "outputs": [],
   "source": [
    "from sklearn.metrics import mean_squared_error\n",
    "def rmse(ytrue, ypred):\n",
    "    return np.sqrt(mean_squared_error(ytrue, ypred))"
   ]
  },
  {
   "cell_type": "code",
   "execution_count": 28,
   "metadata": {},
   "outputs": [],
   "source": [
    "#train in January\n",
    "train = data_calls_Jan\n",
    "X_train =  train.drop(['Calls'], axis=1)\n",
    "y_train =  train['Calls'].values"
   ]
  },
  {
   "cell_type": "code",
   "execution_count": 29,
   "metadata": {
    "scrolled": true
   },
   "outputs": [
    {
     "data": {
      "text/plain": [
       "GradientBoostingRegressor(alpha=0.9, criterion='friedman_mse', init=None,\n",
       "             learning_rate=0.01, loss='ls', max_depth=3, max_features=None,\n",
       "             max_leaf_nodes=None, min_impurity_decrease=0.0,\n",
       "             min_impurity_split=None, min_samples_leaf=1,\n",
       "             min_samples_split=2, min_weight_fraction_leaf=0.0,\n",
       "             n_estimators=1000, n_iter_no_change=None, presort='auto',\n",
       "             random_state=None, subsample=1.0, tol=0.0001,\n",
       "             validation_fraction=0.1, verbose=0, warm_start=False)"
      ]
     },
     "execution_count": 29,
     "metadata": {},
     "output_type": "execute_result"
    }
   ],
   "source": [
    "model = GradientBoostingRegressor(n_estimators=1000, learning_rate=0.01)\n",
    "model.fit(X_train, y_train)"
   ]
  },
  {
   "cell_type": "code",
   "execution_count": 30,
   "metadata": {},
   "outputs": [
    {
     "data": {
      "text/plain": [
       "['trained_calls_regresion_model.pkl']"
      ]
     },
     "execution_count": 30,
     "metadata": {},
     "output_type": "execute_result"
    }
   ],
   "source": [
    "joblib.dump(model, 'trained_calls_regresion_model.pkl')"
   ]
  },
  {
   "cell_type": "code",
   "execution_count": 31,
   "metadata": {},
   "outputs": [
    {
     "name": "stdout",
     "output_type": "stream",
     "text": [
      "Training Root Mean Square Error: 5.7987\n"
     ]
    }
   ],
   "source": [
    "error_tr = rmse(y_train, model.predict(X_train))\n",
    "print(\"Training Root Mean Square Error: %.4f\" % error_tr)"
   ]
  },
  {
   "cell_type": "code",
   "execution_count": 43,
   "metadata": {},
   "outputs": [
    {
     "name": "stdout",
     "output_type": "stream",
     "text": [
      "Days - 0.66%\n",
      "index - 3.26%\n",
      "Last_Day_Diff - 3.30%\n",
      "before_Last_Day_Calls - 3.44%\n",
      "before_Last_Day_Diff - 3.57%\n",
      "Last_Day_Calls - 5.09%\n",
      "before-2_Last_Day_Diff - 9.46%\n",
      "before-2_Last_Day_Calls - 71.23%\n"
     ]
    }
   ],
   "source": [
    "calls_model = joblib.load('trained_calls_regresion_model.pkl')\n",
    "\n",
    "importance = calls_model.feature_importances_\n",
    "\n",
    "feature_labels = np.array(['index','Days', 'Last_Day_Calls','Last_Day_Diff','before_Last_Day_Calls', \n",
    "                           'before_Last_Day_Diff', 'before-2_Last_Day_Calls', 'before-2_Last_Day_Diff',])\n",
    "                          #'before-4_Last_Day_Calls', 'before-4_Last_Day_Diff'])\n",
    "feauture_indexes_by_importance = importance.argsort()\n",
    "\n",
    "# Print each feature label, from least important to more important\n",
    "for index in feauture_indexes_by_importance:\n",
    "    print(\"{} - {:.2f}%\".format(feature_labels[index], (importance[index] * 100.0)))\n",
    "    "
   ]
  },
  {
   "cell_type": "code",
   "execution_count": 33,
   "metadata": {},
   "outputs": [
    {
     "name": "stdout",
     "output_type": "stream",
     "text": [
      "alternate day check 9 - Error 85.83928\n",
      "alternate day check 11 - Error 50.64961\n",
      "alternate day check 13 - Error 39.29485\n",
      "alternate day check 15 - Error 44.36187\n",
      "alternate day check 17 - Error 55.43458\n",
      "alternate day check 19 - Error 76.88139\n",
      "Mean Error = 58.74360\n"
     ]
    }
   ],
   "source": [
    "mean_error = []\n",
    "for day in range(9,21,2):\n",
    "    val = data_calls_Feb[data_calls_Feb['Days'] == day]\n",
    "    xts = val.drop(['Calls'], axis=1)\n",
    "    yts = val['Calls'].values\n",
    "    p = calls_model.predict(xts)\n",
    "    error = rmse(yts, p)\n",
    "    print('alternate day check %d - Error %.5f' % (day, error))\n",
    "    mean_error.append(error)\n",
    "print('Mean Error = %.5f' % np.mean(mean_error))"
   ]
  },
  {
   "cell_type": "code",
   "execution_count": 34,
   "metadata": {},
   "outputs": [
    {
     "name": "stderr",
     "output_type": "stream",
     "text": [
      "/anaconda3/lib/python3.7/site-packages/pandas/core/indexing.py:362: SettingWithCopyWarning: \n",
      "A value is trying to be set on a copy of a slice from a DataFrame.\n",
      "Try using .loc[row_indexer,col_indexer] = value instead\n",
      "\n",
      "See the caveats in the documentation: http://pandas.pydata.org/pandas-docs/stable/indexing.html#indexing-view-versus-copy\n",
      "  self.obj[key] = _infer_fill_value(value)\n",
      "/anaconda3/lib/python3.7/site-packages/pandas/core/indexing.py:543: SettingWithCopyWarning: \n",
      "A value is trying to be set on a copy of a slice from a DataFrame.\n",
      "Try using .loc[row_indexer,col_indexer] = value instead\n",
      "\n",
      "See the caveats in the documentation: http://pandas.pydata.org/pandas-docs/stable/indexing.html#indexing-view-versus-copy\n",
      "  self.obj[item] = s\n"
     ]
    },
    {
     "data": {
      "text/plain": [
       "<matplotlib.axes._subplots.AxesSubplot at 0x1a25d3c1d0>"
      ]
     },
     "execution_count": 34,
     "metadata": {},
     "output_type": "execute_result"
    },
    {
     "data": {
      "image/png": "[encoded data removed]",
      "text/plain": [
       "<Figure size 432x288 with 1 Axes>"
      ]
     },
     "metadata": {
      "needs_background": "light"
     },
     "output_type": "display_data"
    }
   ],
   "source": [
    "val.loc[:, 'Prediction'] = np.round(p)\n",
    "sb.regplot(val[\"Calls\"], val[\"Prediction\"], scatter=True)"
   ]
  },
  {
   "cell_type": "code",
   "execution_count": 45,
   "metadata": {},
   "outputs": [],
   "source": [
    "#train in January\n",
    "train2= data_calls_onTime_Jan\n",
    "X_train2 =  train2.drop(['Calls'], axis=1)\n",
    "y_train2 =  train2['Calls'].values"
   ]
  },
  {
   "cell_type": "code",
   "execution_count": 51,
   "metadata": {},
   "outputs": [
    {
     "data": {
      "text/plain": [
       "GradientBoostingRegressor(alpha=0.9, criterion='friedman_mse', init=None,\n",
       "             learning_rate=0.01, loss='ls', max_depth=3, max_features=None,\n",
       "             max_leaf_nodes=None, min_impurity_decrease=0.0,\n",
       "             min_impurity_split=None, min_samples_leaf=1,\n",
       "             min_samples_split=2, min_weight_fraction_leaf=0.0,\n",
       "             n_estimators=400, n_iter_no_change=None, presort='auto',\n",
       "             random_state=None, subsample=1.0, tol=0.0001,\n",
       "             validation_fraction=0.1, verbose=0, warm_start=False)"
      ]
     },
     "execution_count": 51,
     "metadata": {},
     "output_type": "execute_result"
    }
   ],
   "source": [
    "model_calls_onTime = GradientBoostingRegressor(n_estimators=400, learning_rate=0.01)\n",
    "model_calls_onTime.fit(X_train2, y_train2)"
   ]
  },
  {
   "cell_type": "code",
   "execution_count": 52,
   "metadata": {},
   "outputs": [
    {
     "data": {
      "text/plain": [
       "['trained_calls_onTime_regresion_model.pkl']"
      ]
     },
     "execution_count": 52,
     "metadata": {},
     "output_type": "execute_result"
    }
   ],
   "source": [
    "joblib.dump(model, 'trained_calls_onTime_regresion_model.pkl')"
   ]
  },
  {
   "cell_type": "code",
   "execution_count": 53,
   "metadata": {},
   "outputs": [
    {
     "name": "stdout",
     "output_type": "stream",
     "text": [
      "Training Root Mean Square Error: 42.7350\n"
     ]
    }
   ],
   "source": [
    "error_tr = rmse(y_train2, model.predict(X_train2))\n",
    "print(\"Training Root Mean Square Error: %.4f\" % error_tr)"
   ]
  },
  {
   "cell_type": "code",
   "execution_count": 54,
   "metadata": {},
   "outputs": [
    {
     "name": "stdout",
     "output_type": "stream",
     "text": [
      "Days - 0.66%\n",
      "index - 3.26%\n",
      "Last_Day_Diff - 3.30%\n",
      "before_Last_Day_Calls - 3.44%\n",
      "before_Last_Day_Diff - 3.57%\n",
      "Last_Day_Calls - 5.09%\n",
      "before-2_Last_Day_Diff - 9.46%\n",
      "before-2_Last_Day_Calls - 71.23%\n"
     ]
    }
   ],
   "source": [
    "calls_onTime_model = joblib.load('trained_calls_onTime_regresion_model.pkl')\n",
    "\n",
    "importance = calls_onTime_model.feature_importances_\n",
    "\n",
    "feature_labels = np.array(['index','Days', 'Last_Day_Calls','Last_Day_Diff','before_Last_Day_Calls', \n",
    "                           'before_Last_Day_Diff', 'before-2_Last_Day_Calls', 'before-2_Last_Day_Diff'])\n",
    "                          #'before-4_Last_Day_Calls', 'before-4_Last_Day_Diff'])\n",
    "feauture_indexes_by_importance = importance.argsort()\n",
    "\n",
    "# Print each feature label, from least important to most important\n",
    "for index in feauture_indexes_by_importance:\n",
    "    print(\"{} - {:.2f}%\".format(feature_labels[index], (importance[index] * 100.0)))"
   ]
  },
  {
   "cell_type": "code",
   "execution_count": 55,
   "metadata": {},
   "outputs": [
    {
     "name": "stdout",
     "output_type": "stream",
     "text": [
      "alternate day check 9 - Error 91.60775\n",
      "alternate day check 11 - Error 33.43158\n",
      "alternate day check 13 - Error 39.01671\n",
      "alternate day check 15 - Error 55.38636\n",
      "alternate day check 17 - Error 73.28641\n",
      "alternate day check 19 - Error 77.78322\n",
      "Mean Error = 61.75201\n"
     ]
    }
   ],
   "source": [
    "mean_error = []\n",
    "for day in range(9,21,2):\n",
    "    val = data_calls_onTime_Feb[data_calls_onTime_Feb['Days'] == day]\n",
    "    xts = val.drop(['Calls'], axis=1)\n",
    "    yts = val['Calls'].values\n",
    "    p = calls_onTime_model.predict(xts)\n",
    "    error = rmse(yts, p)\n",
    "    print('alternate day check %d - Error %.5f' % (day, error))\n",
    "    mean_error.append(error)\n",
    "print('Mean Error = %.5f' % np.mean(mean_error))"
   ]
  },
  {
   "cell_type": "code",
   "execution_count": 56,
   "metadata": {},
   "outputs": [
    {
     "name": "stderr",
     "output_type": "stream",
     "text": [
      "/anaconda3/lib/python3.7/site-packages/pandas/core/indexing.py:362: SettingWithCopyWarning: \n",
      "A value is trying to be set on a copy of a slice from a DataFrame.\n",
      "Try using .loc[row_indexer,col_indexer] = value instead\n",
      "\n",
      "See the caveats in the documentation: http://pandas.pydata.org/pandas-docs/stable/indexing.html#indexing-view-versus-copy\n",
      "  self.obj[key] = _infer_fill_value(value)\n",
      "/anaconda3/lib/python3.7/site-packages/pandas/core/indexing.py:543: SettingWithCopyWarning: \n",
      "A value is trying to be set on a copy of a slice from a DataFrame.\n",
      "Try using .loc[row_indexer,col_indexer] = value instead\n",
      "\n",
      "See the caveats in the documentation: http://pandas.pydata.org/pandas-docs/stable/indexing.html#indexing-view-versus-copy\n",
      "  self.obj[item] = s\n"
     ]
    },
    {
     "data": {
      "text/plain": [
       "<matplotlib.axes._subplots.AxesSubplot at 0x1a272bf4a8>"
      ]
     },
     "execution_count": 56,
     "metadata": {},
     "output_type": "execute_result"
    },
    {
     "data": {
      "image/png": "[encoded data removed]",
      "text/plain": [
       "<Figure size 432x288 with 1 Axes>"
      ]
     },
     "metadata": {
      "needs_background": "light"
     },
     "output_type": "display_data"
    }
   ],
   "source": [
    "val.loc[:, 'Prediction'] = np.round(p)\n",
    "sb.regplot(val[\"Calls\"], val[\"Prediction\"], scatter=True)"
   ]
  },
  {
   "cell_type": "markdown",
   "metadata": {},
   "source": [
    "# Make predictions and submission"
   ]
  },
  {
   "cell_type": "code",
   "execution_count": 57,
   "metadata": {},
   "outputs": [],
   "source": [
    "calls_model = joblib.load('trained_calls_regresion_model.pkl')\n"
   ]
  },
  {
   "cell_type": "code",
   "execution_count": 121,
   "metadata": {},
   "outputs": [
    {
     "data": {
      "text/html": [
       "<div>\n",
       "<style scoped>\n",
       "    .dataframe tbody tr th:only-of-type {\n",
       "        vertical-align: middle;\n",
       "    }\n",
       "\n",
       "    .dataframe tbody tr th {\n",
       "        vertical-align: top;\n",
       "    }\n",
       "\n",
       "    .dataframe thead th {\n",
       "        text-align: right;\n",
       "    }\n",
       "</style>\n",
       "<table border=\"1\" class=\"dataframe\">\n",
       "  <thead>\n",
       "    <tr style=\"text-align: right;\">\n",
       "      <th></th>\n",
       "      <th>index</th>\n",
       "      <th>Days</th>\n",
       "      <th>Last_Day_Calls</th>\n",
       "      <th>Last_Day_Diff</th>\n",
       "      <th>before_Last_Day_Calls</th>\n",
       "      <th>before_Last_Day_Diff</th>\n",
       "      <th>before-2_Last_Day_Calls</th>\n",
       "      <th>before-2_Last_Day_Diff</th>\n",
       "    </tr>\n",
       "  </thead>\n",
       "  <tbody>\n",
       "    <tr>\n",
       "      <th>0</th>\n",
       "      <td>215</td>\n",
       "      <td>27</td>\n",
       "      <td>762</td>\n",
       "      <td>734</td>\n",
       "      <td>28</td>\n",
       "      <td>-431</td>\n",
       "      <td>459</td>\n",
       "      <td>-29</td>\n",
       "    </tr>\n",
       "    <tr>\n",
       "      <th>1</th>\n",
       "      <td>2581</td>\n",
       "      <td>27</td>\n",
       "      <td>86</td>\n",
       "      <td>86</td>\n",
       "      <td>0</td>\n",
       "      <td>-40</td>\n",
       "      <td>40</td>\n",
       "      <td>-11</td>\n",
       "    </tr>\n",
       "    <tr>\n",
       "      <th>2</th>\n",
       "      <td>3363</td>\n",
       "      <td>27</td>\n",
       "      <td>431</td>\n",
       "      <td>405</td>\n",
       "      <td>26</td>\n",
       "      <td>-258</td>\n",
       "      <td>284</td>\n",
       "      <td>-18</td>\n",
       "    </tr>\n",
       "    <tr>\n",
       "      <th>3</th>\n",
       "      <td>8068</td>\n",
       "      <td>27</td>\n",
       "      <td>484</td>\n",
       "      <td>468</td>\n",
       "      <td>16</td>\n",
       "      <td>-195</td>\n",
       "      <td>211</td>\n",
       "      <td>-15</td>\n",
       "    </tr>\n",
       "    <tr>\n",
       "      <th>4</th>\n",
       "      <td>39159</td>\n",
       "      <td>27</td>\n",
       "      <td>401</td>\n",
       "      <td>385</td>\n",
       "      <td>16</td>\n",
       "      <td>-271</td>\n",
       "      <td>287</td>\n",
       "      <td>134</td>\n",
       "    </tr>\n",
       "    <tr>\n",
       "      <th>5</th>\n",
       "      <td>87520</td>\n",
       "      <td>27</td>\n",
       "      <td>327</td>\n",
       "      <td>243</td>\n",
       "      <td>84</td>\n",
       "      <td>-182</td>\n",
       "      <td>266</td>\n",
       "      <td>-34</td>\n",
       "    </tr>\n",
       "    <tr>\n",
       "      <th>6</th>\n",
       "      <td>372301</td>\n",
       "      <td>27</td>\n",
       "      <td>1077</td>\n",
       "      <td>753</td>\n",
       "      <td>324</td>\n",
       "      <td>-445</td>\n",
       "      <td>769</td>\n",
       "      <td>37</td>\n",
       "    </tr>\n",
       "    <tr>\n",
       "      <th>7</th>\n",
       "      <td>797391</td>\n",
       "      <td>27</td>\n",
       "      <td>1</td>\n",
       "      <td>1</td>\n",
       "      <td>0</td>\n",
       "      <td>-6</td>\n",
       "      <td>6</td>\n",
       "      <td>-2</td>\n",
       "    </tr>\n",
       "    <tr>\n",
       "      <th>8</th>\n",
       "      <td>900995</td>\n",
       "      <td>27</td>\n",
       "      <td>25</td>\n",
       "      <td>25</td>\n",
       "      <td>0</td>\n",
       "      <td>-13</td>\n",
       "      <td>13</td>\n",
       "      <td>1</td>\n",
       "    </tr>\n",
       "  </tbody>\n",
       "</table>\n",
       "</div>"
      ],
      "text/plain": [
       "    index Days Last_Day_Calls Last_Day_Diff before_Last_Day_Calls  \\\n",
       "0     215   27            762           734                    28   \n",
       "1    2581   27             86            86                     0   \n",
       "2    3363   27            431           405                    26   \n",
       "3    8068   27            484           468                    16   \n",
       "4   39159   27            401           385                    16   \n",
       "5   87520   27            327           243                    84   \n",
       "6  372301   27           1077           753                   324   \n",
       "7  797391   27              1             1                     0   \n",
       "8  900995   27             25            25                     0   \n",
       "\n",
       "  before_Last_Day_Diff before-2_Last_Day_Calls before-2_Last_Day_Diff  \n",
       "0                 -431                     459                    -29  \n",
       "1                  -40                      40                    -11  \n",
       "2                 -258                     284                    -18  \n",
       "3                 -195                     211                    -15  \n",
       "4                 -271                     287                    134  \n",
       "5                 -182                     266                    -34  \n",
       "6                 -445                     769                     37  \n",
       "7                   -6                       6                     -2  \n",
       "8                  -13                      13                      1  "
      ]
     },
     "execution_count": 121,
     "metadata": {},
     "output_type": "execute_result"
    }
   ],
   "source": [
    "day27 = pd.DataFrame(columns=['index','Days', 'Last_Day_Calls','Last_Day_Diff','before_Last_Day_Calls', \n",
    "                           'before_Last_Day_Diff', 'before-2_Last_Day_Calls', 'before-2_Last_Day_Diff'])\n",
    "day27.loc[0]= [215, 27, 762, 734, 28, -431, 459, -29]\n",
    "day27.loc[1]= [2581, 27, 86, 86, 0, -40, 40, -11]\n",
    "day27.loc[2]= [3363, 27, 431, 405, 26, -258, 284, -18]\n",
    "day27.loc[3]= [8068, 27, 484, 468, 16, -195, 211, -15]\n",
    "day27.loc[4]= [39159, 27, 401, 385, 16 ,-271, 287, 134]\n",
    "day27.loc[5]= [87520, 27, 327, 243, 84, -182, 266, -34]\n",
    "day27.loc[6]= [372301, 27, 1077, 753, 324, -445, 769, 37]\n",
    "day27.loc[7]= [797391, 27, 1, 1, 0, -6, 6, -2]\n",
    "day27.loc[8]= [900995, 27, 25, 25, 0, -13, 13, 1]\n",
    "\n",
    "\n",
    "day27"
   ]
  },
  {
   "cell_type": "code",
   "execution_count": 122,
   "metadata": {},
   "outputs": [],
   "source": [
    "pred = calls_model.predict(day27)"
   ]
  },
  {
   "cell_type": "code",
   "execution_count": 124,
   "metadata": {},
   "outputs": [
    {
     "data": {
      "text/plain": [
       "array([471., 134., 248., 248., 231., 297., 660.,   5.,  13.])"
      ]
     },
     "execution_count": 124,
     "metadata": {},
     "output_type": "execute_result"
    }
   ],
   "source": [
    "np.round(pred)"
   ]
  },
  {
   "cell_type": "code",
   "execution_count": 150,
   "metadata": {
    "scrolled": true
   },
   "outputs": [
    {
     "data": {
      "text/html": [
       "<div>\n",
       "<style scoped>\n",
       "    .dataframe tbody tr th:only-of-type {\n",
       "        vertical-align: middle;\n",
       "    }\n",
       "\n",
       "    .dataframe tbody tr th {\n",
       "        vertical-align: top;\n",
       "    }\n",
       "\n",
       "    .dataframe thead th {\n",
       "        text-align: right;\n",
       "    }\n",
       "</style>\n",
       "<table border=\"1\" class=\"dataframe\">\n",
       "  <thead>\n",
       "    <tr style=\"text-align: right;\">\n",
       "      <th></th>\n",
       "      <th>index</th>\n",
       "      <th>Days</th>\n",
       "      <th>Last_Day_Calls</th>\n",
       "      <th>Last_Day_Diff</th>\n",
       "      <th>before_Last_Day_Calls</th>\n",
       "      <th>before_Last_Day_Diff</th>\n",
       "      <th>before-2_Last_Day_Calls</th>\n",
       "      <th>before-2_Last_Day_Diff</th>\n",
       "    </tr>\n",
       "  </thead>\n",
       "  <tbody>\n",
       "    <tr>\n",
       "      <th>0</th>\n",
       "      <td>215</td>\n",
       "      <td>27</td>\n",
       "      <td>630</td>\n",
       "      <td>614</td>\n",
       "      <td>16</td>\n",
       "      <td>-356</td>\n",
       "      <td>372</td>\n",
       "      <td>-19</td>\n",
       "    </tr>\n",
       "    <tr>\n",
       "      <th>1</th>\n",
       "      <td>2581</td>\n",
       "      <td>27</td>\n",
       "      <td>83</td>\n",
       "      <td>83</td>\n",
       "      <td>0</td>\n",
       "      <td>-35</td>\n",
       "      <td>35</td>\n",
       "      <td>-13</td>\n",
       "    </tr>\n",
       "    <tr>\n",
       "      <th>2</th>\n",
       "      <td>3363</td>\n",
       "      <td>27</td>\n",
       "      <td>406</td>\n",
       "      <td>381</td>\n",
       "      <td>25</td>\n",
       "      <td>-240</td>\n",
       "      <td>265</td>\n",
       "      <td>-20</td>\n",
       "    </tr>\n",
       "    <tr>\n",
       "      <th>3</th>\n",
       "      <td>8068</td>\n",
       "      <td>27</td>\n",
       "      <td>345</td>\n",
       "      <td>331</td>\n",
       "      <td>14</td>\n",
       "      <td>-74</td>\n",
       "      <td>88</td>\n",
       "      <td>-21</td>\n",
       "    </tr>\n",
       "    <tr>\n",
       "      <th>4</th>\n",
       "      <td>39159</td>\n",
       "      <td>27</td>\n",
       "      <td>329</td>\n",
       "      <td>316</td>\n",
       "      <td>13</td>\n",
       "      <td>-223</td>\n",
       "      <td>236</td>\n",
       "      <td>149</td>\n",
       "    </tr>\n",
       "    <tr>\n",
       "      <th>5</th>\n",
       "      <td>87520</td>\n",
       "      <td>27</td>\n",
       "      <td>270</td>\n",
       "      <td>196</td>\n",
       "      <td>74</td>\n",
       "      <td>-143</td>\n",
       "      <td>217</td>\n",
       "      <td>-36</td>\n",
       "    </tr>\n",
       "    <tr>\n",
       "      <th>6</th>\n",
       "      <td>372301</td>\n",
       "      <td>27</td>\n",
       "      <td>717</td>\n",
       "      <td>496</td>\n",
       "      <td>221</td>\n",
       "      <td>-253</td>\n",
       "      <td>474</td>\n",
       "      <td>3</td>\n",
       "    </tr>\n",
       "    <tr>\n",
       "      <th>7</th>\n",
       "      <td>797391</td>\n",
       "      <td>27</td>\n",
       "      <td>1</td>\n",
       "      <td>1</td>\n",
       "      <td>0</td>\n",
       "      <td>-5</td>\n",
       "      <td>5</td>\n",
       "      <td>-3</td>\n",
       "    </tr>\n",
       "    <tr>\n",
       "      <th>8</th>\n",
       "      <td>900995</td>\n",
       "      <td>27</td>\n",
       "      <td>18</td>\n",
       "      <td>18</td>\n",
       "      <td>0</td>\n",
       "      <td>-11</td>\n",
       "      <td>11</td>\n",
       "      <td>1</td>\n",
       "    </tr>\n",
       "  </tbody>\n",
       "</table>\n",
       "</div>"
      ],
      "text/plain": [
       "    index Days Last_Day_Calls Last_Day_Diff before_Last_Day_Calls  \\\n",
       "0     215   27            630           614                    16   \n",
       "1    2581   27             83            83                     0   \n",
       "2    3363   27            406           381                    25   \n",
       "3    8068   27            345           331                    14   \n",
       "4   39159   27            329           316                    13   \n",
       "5   87520   27            270           196                    74   \n",
       "6  372301   27            717           496                   221   \n",
       "7  797391   27              1             1                     0   \n",
       "8  900995   27             18            18                     0   \n",
       "\n",
       "  before_Last_Day_Diff before-2_Last_Day_Calls before-2_Last_Day_Diff  \n",
       "0                 -356                     372                    -19  \n",
       "1                  -35                      35                    -13  \n",
       "2                 -240                     265                    -20  \n",
       "3                  -74                      88                    -21  \n",
       "4                 -223                     236                    149  \n",
       "5                 -143                     217                    -36  \n",
       "6                 -253                     474                      3  \n",
       "7                   -5                       5                     -3  \n",
       "8                  -11                      11                      1  "
      ]
     },
     "execution_count": 150,
     "metadata": {},
     "output_type": "execute_result"
    }
   ],
   "source": [
    "day27_onTime = pd.DataFrame(columns=['index','Days', 'Last_Day_Calls','Last_Day_Diff','before_Last_Day_Calls', \n",
    "                           'before_Last_Day_Diff', 'before-2_Last_Day_Calls', 'before-2_Last_Day_Diff'])\n",
    "day27_onTime.loc[0]= [215, 27, 630, 614, 16, -356, 372, -19]\n",
    "day27_onTime.loc[1]= [2581, 27, 83, 83, 0, -35, 35, -13]\n",
    "day27_onTime.loc[2]= [3363, 27, 406, 381, 25, -240, 265, -20]\n",
    "day27_onTime.loc[3]= [8068, 27, 345, 331, 14, -74, 88, -21]\n",
    "day27_onTime.loc[4]= [39159, 27, 329, 316, 13 ,-223, 236, 149]\n",
    "day27_onTime.loc[5]= [87520, 27, 270, 196, 74, -143, 217, -36]\n",
    "day27_onTime.loc[6]= [372301, 27, 717, 496, 221, -253, 474, 3]\n",
    "day27_onTime.loc[7]= [797391, 27, 1, 1, 0, -5, 5, -3]\n",
    "day27_onTime.loc[8]= [900995, 27, 18, 18, 0, -11, 11, 1]\n",
    "\n",
    "\n",
    "day27_onTime"
   ]
  },
  {
   "cell_type": "code",
   "execution_count": 151,
   "metadata": {},
   "outputs": [],
   "source": [
    "calls_model_onTime = joblib.load('trained_calls_onTime_regresion_model.pkl')\n"
   ]
  },
  {
   "cell_type": "code",
   "execution_count": 152,
   "metadata": {},
   "outputs": [
    {
     "data": {
      "text/plain": [
       "array([340.,  88., 265., 189., 253., 295., 599.,   5.,  11.])"
      ]
     },
     "execution_count": 152,
     "metadata": {},
     "output_type": "execute_result"
    }
   ],
   "source": [
    "pred = calls_model_onTime.predict(day27_onTime)\n",
    "np.round(pred)"
   ]
  },
  {
   "cell_type": "code",
   "execution_count": 125,
   "metadata": {},
   "outputs": [],
   "source": [
    "tcalls_onTime_Feb = data_calls2_onTime(df, FebDays )\n",
    "\n",
    "tdata_calls_onTime_Feb = melting_data(tcalls_onTime_Feb)"
   ]
  },
  {
   "cell_type": "code",
   "execution_count": 129,
   "metadata": {},
   "outputs": [],
   "source": [
    "multiIndex2 = tdata_calls_onTime_Feb.set_index([\"index\",\"Days\"])\n",
    "#multiIndex2"
   ]
  },
  {
   "cell_type": "code",
   "execution_count": 148,
   "metadata": {},
   "outputs": [
    {
     "data": {
      "text/html": [
       "<div>\n",
       "<style scoped>\n",
       "    .dataframe tbody tr th:only-of-type {\n",
       "        vertical-align: middle;\n",
       "    }\n",
       "\n",
       "    .dataframe tbody tr th {\n",
       "        vertical-align: top;\n",
       "    }\n",
       "\n",
       "    .dataframe thead th {\n",
       "        text-align: right;\n",
       "    }\n",
       "</style>\n",
       "<table border=\"1\" class=\"dataframe\">\n",
       "  <thead>\n",
       "    <tr style=\"text-align: right;\">\n",
       "      <th></th>\n",
       "      <th>Calls</th>\n",
       "    </tr>\n",
       "    <tr>\n",
       "      <th>Days</th>\n",
       "      <th></th>\n",
       "    </tr>\n",
       "  </thead>\n",
       "  <tbody>\n",
       "    <tr>\n",
       "      <th>1</th>\n",
       "      <td>6</td>\n",
       "    </tr>\n",
       "    <tr>\n",
       "      <th>3</th>\n",
       "      <td>5</td>\n",
       "    </tr>\n",
       "    <tr>\n",
       "      <th>5</th>\n",
       "      <td>4</td>\n",
       "    </tr>\n",
       "    <tr>\n",
       "      <th>7</th>\n",
       "      <td>3</td>\n",
       "    </tr>\n",
       "    <tr>\n",
       "      <th>9</th>\n",
       "      <td>0</td>\n",
       "    </tr>\n",
       "    <tr>\n",
       "      <th>11</th>\n",
       "      <td>4</td>\n",
       "    </tr>\n",
       "    <tr>\n",
       "      <th>13</th>\n",
       "      <td>5</td>\n",
       "    </tr>\n",
       "    <tr>\n",
       "      <th>15</th>\n",
       "      <td>3</td>\n",
       "    </tr>\n",
       "    <tr>\n",
       "      <th>17</th>\n",
       "      <td>2</td>\n",
       "    </tr>\n",
       "    <tr>\n",
       "      <th>19</th>\n",
       "      <td>10</td>\n",
       "    </tr>\n",
       "    <tr>\n",
       "      <th>21</th>\n",
       "      <td>11</td>\n",
       "    </tr>\n",
       "    <tr>\n",
       "      <th>23</th>\n",
       "      <td>0</td>\n",
       "    </tr>\n",
       "    <tr>\n",
       "      <th>25</th>\n",
       "      <td>18</td>\n",
       "    </tr>\n",
       "  </tbody>\n",
       "</table>\n",
       "</div>"
      ],
      "text/plain": [
       "      Calls\n",
       "Days       \n",
       "1         6\n",
       "3         5\n",
       "5         4\n",
       "7         3\n",
       "9         0\n",
       "11        4\n",
       "13        5\n",
       "15        3\n",
       "17        2\n",
       "19       10\n",
       "21       11\n",
       "23        0\n",
       "25       18"
      ]
     },
     "execution_count": 148,
     "metadata": {},
     "output_type": "execute_result"
    }
   ],
   "source": [
    "t00 = multiIndex2.loc[900995,:]\n",
    "t00.astype(int)"
   ]
  },
  {
   "cell_type": "code",
   "execution_count": 149,
   "metadata": {},
   "outputs": [
    {
     "data": {
      "text/html": [
       "<div>\n",
       "<style scoped>\n",
       "    .dataframe tbody tr th:only-of-type {\n",
       "        vertical-align: middle;\n",
       "    }\n",
       "\n",
       "    .dataframe tbody tr th {\n",
       "        vertical-align: top;\n",
       "    }\n",
       "\n",
       "    .dataframe thead th {\n",
       "        text-align: right;\n",
       "    }\n",
       "</style>\n",
       "<table border=\"1\" class=\"dataframe\">\n",
       "  <thead>\n",
       "    <tr style=\"text-align: right;\">\n",
       "      <th></th>\n",
       "      <th>Calls</th>\n",
       "    </tr>\n",
       "    <tr>\n",
       "      <th>Days</th>\n",
       "      <th></th>\n",
       "    </tr>\n",
       "  </thead>\n",
       "  <tbody>\n",
       "    <tr>\n",
       "      <th>1</th>\n",
       "      <td>NaN</td>\n",
       "    </tr>\n",
       "    <tr>\n",
       "      <th>3</th>\n",
       "      <td>-1.0</td>\n",
       "    </tr>\n",
       "    <tr>\n",
       "      <th>5</th>\n",
       "      <td>-1.0</td>\n",
       "    </tr>\n",
       "    <tr>\n",
       "      <th>7</th>\n",
       "      <td>-1.0</td>\n",
       "    </tr>\n",
       "    <tr>\n",
       "      <th>9</th>\n",
       "      <td>-3.0</td>\n",
       "    </tr>\n",
       "    <tr>\n",
       "      <th>11</th>\n",
       "      <td>4.0</td>\n",
       "    </tr>\n",
       "    <tr>\n",
       "      <th>13</th>\n",
       "      <td>1.0</td>\n",
       "    </tr>\n",
       "    <tr>\n",
       "      <th>15</th>\n",
       "      <td>-2.0</td>\n",
       "    </tr>\n",
       "    <tr>\n",
       "      <th>17</th>\n",
       "      <td>-1.0</td>\n",
       "    </tr>\n",
       "    <tr>\n",
       "      <th>19</th>\n",
       "      <td>8.0</td>\n",
       "    </tr>\n",
       "    <tr>\n",
       "      <th>21</th>\n",
       "      <td>1.0</td>\n",
       "    </tr>\n",
       "    <tr>\n",
       "      <th>23</th>\n",
       "      <td>-11.0</td>\n",
       "    </tr>\n",
       "    <tr>\n",
       "      <th>25</th>\n",
       "      <td>18.0</td>\n",
       "    </tr>\n",
       "  </tbody>\n",
       "</table>\n",
       "</div>"
      ],
      "text/plain": [
       "      Calls\n",
       "Days       \n",
       "1       NaN\n",
       "3      -1.0\n",
       "5      -1.0\n",
       "7      -1.0\n",
       "9      -3.0\n",
       "11      4.0\n",
       "13      1.0\n",
       "15     -2.0\n",
       "17     -1.0\n",
       "19      8.0\n",
       "21      1.0\n",
       "23    -11.0\n",
       "25     18.0"
      ]
     },
     "execution_count": 149,
     "metadata": {},
     "output_type": "execute_result"
    }
   ],
   "source": [
    "t01 = t00.shift()\n",
    "t03 = t00-t01\n",
    "t03"
   ]
  },
  {
   "cell_type": "code",
   "execution_count": 92,
   "metadata": {},
   "outputs": [
    {
     "data": {
      "text/plain": [
       "array([734.])"
      ]
     },
     "execution_count": 92,
     "metadata": {},
     "output_type": "execute_result"
    }
   ],
   "source": [
    "t03.loc[25].values"
   ]
  },
  {
   "cell_type": "code",
   "execution_count": 93,
   "metadata": {},
   "outputs": [
    {
     "data": {
      "text/plain": [
       "[array([762.]), array([734.])]"
      ]
     },
     "execution_count": 93,
     "metadata": {},
     "output_type": "execute_result"
    }
   ],
   "source": [
    "list = []\n",
    "list.append(t00.loc[25].values)\n",
    "list.append(t03.loc[25].values)\n",
    "list"
   ]
  }
 ],
 "metadata": {
  "kernelspec": {
   "display_name": "Python 3",
   "language": "python",
   "name": "python3"
  },
  "language_info": {
   "codemirror_mode": {
    "name": "ipython",
    "version": 3
   },
   "file_extension": ".py",
   "mimetype": "text/x-python",
   "name": "python",
   "nbconvert_exporter": "python",
   "pygments_lexer": "ipython3",
   "version": "3.7.3"
  }
 },
 "nbformat": 4,
 "nbformat_minor": 2
}
